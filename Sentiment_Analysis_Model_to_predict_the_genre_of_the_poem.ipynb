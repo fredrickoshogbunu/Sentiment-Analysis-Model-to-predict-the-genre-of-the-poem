{
  "nbformat": 4,
  "nbformat_minor": 0,
  "metadata": {
    "colab": {
      "provenance": []
    },
    "kernelspec": {
      "name": "python3",
      "display_name": "Python 3"
    },
    "language_info": {
      "name": "python"
    }
  },
  "cells": [
    {
      "cell_type": "code",
      "execution_count": null,
      "metadata": {
        "colab": {
          "base_uri": "https://localhost:8080/"
        },
        "id": "m_wEG9blEjDg",
        "outputId": "0038201f-f0d0-4376-aad1-9ffbc3a30ef4"
      },
      "outputs": [
        {
          "output_type": "stream",
          "name": "stderr",
          "text": [
            "[nltk_data] Downloading package punkt to /root/nltk_data...\n",
            "[nltk_data]   Package punkt is already up-to-date!\n",
            "[nltk_data] Downloading package stopwords to /root/nltk_data...\n",
            "[nltk_data]   Package stopwords is already up-to-date!\n",
            "[nltk_data] Downloading package omw-1.4 to /root/nltk_data...\n",
            "[nltk_data]   Package omw-1.4 is already up-to-date!\n",
            "[nltk_data] Downloading package wordnet to /root/nltk_data...\n",
            "[nltk_data]   Package wordnet is already up-to-date!\n"
          ]
        }
      ],
      "source": [
        "import re, nltk\n",
        "nltk.download('punkt')\n",
        "nltk.download('stopwords')\n",
        "nltk.download('omw-1.4')\n",
        "nltk.download('wordnet')\n",
        "import numpy as np\n",
        "import pandas as pd\n",
        "from bs4 import BeautifulSoup\n",
        "from nltk.stem import WordNetLemmatizer\n",
        "from nltk.corpus import stopwords\n",
        "from sklearn.feature_extraction.text import TfidfVectorizer\n",
        "from sklearn.model_selection import train_test_split\n",
        "from sklearn import metrics\n",
        "from sklearn.svm import LinearSVC\n",
        "from sklearn.feature_extraction.text import TfidfVectorizer\n",
        "from sklearn.linear_model import LogisticRegression\n",
        "from sklearn.pipeline import Pipeline\n",
        "from sklearn.metrics import classification_report, accuracy_score\n",
        "from sklearn.model_selection import train_test_split\n",
        "from sklearn.metrics import confusion_matrix, accuracy_score, precision_score, recall_score, f1_score\n",
        "import seaborn as sns\n",
        "import matplotlib.pyplot as plt\n",
        "\n",
        "import joblib\n"
      ]
    },
    {
      "cell_type": "code",
      "source": [
        "# Read dataset as dataframe\n",
        "df = pd.read_csv(\"Poem_Data.csv\")\n",
        "pd.set_option('display.max_colwidth', None) # Set this to view the full content of cells\n",
        "pd.set_option('display.max_columns', None) # set this to enable the view of all the columns in output window"
      ],
      "metadata": {
        "id": "5CmFK7MiFRRt"
      },
      "execution_count": null,
      "outputs": []
    },
    {
      "cell_type": "code",
      "source": [
        "# Cleaning Poem\n",
        "def cleaner(Poem):\n",
        "    soup = BeautifulSoup(Poem, 'lxml') # To eliminate HTML entities like '&amp', '&quot', and '&gt', the lxml library should be installed with the command 'pip install lxml' as it serves as the HTML parser.\n",
        "    souped = soup.get_text()\n",
        "    re1 = re.sub(r\"(@|http://|https://|www|\\\\x)\\S*\", \" \", souped) #Replacing @mentions, URLs, and other elements with blank spaces.\n",
        "    re2 = re.sub(\"[^A-Za-z]+\",\" \", re1) # Replace any recurring non-alphabetic character with whitespace.\n",
        "\n",
        "    \"\"\"\n",
        "    For more info on regular expressions visit -\n",
        "    https://docs.python.org/3/howto/regex.html\n",
        "    \"\"\"\n",
        "\n",
        "    tokens = nltk.word_tokenize(re2)\n",
        "    LowerCase = [t.lower() for t in tokens]\n",
        "\n",
        "    StopWords = set(stopwords.words('english'))\n",
        "    filteredResult = list(filter(lambda l: l not in StopWords, LowerCase))\n",
        "\n",
        "    wordnet_lemmatizer = WordNetLemmatizer()\n",
        "    lemmas = [wordnet_lemmatizer.lemmatize(t,'v') for t in filteredResult]\n",
        "    return lemmas"
      ],
      "metadata": {
        "id": "oUa_miGtFsXe"
      },
      "execution_count": null,
      "outputs": []
    },
    {
      "cell_type": "code",
      "source": [
        "df['cleaned_Poem'] = df.Poem.apply(cleaner)\n",
        "df = df[df['cleaned_Poem'].map(len) > 0] # removing rows with cleaned poem of length 0"
      ],
      "metadata": {
        "id": "1apJneJaF4vr",
        "colab": {
          "base_uri": "https://localhost:8080/"
        },
        "outputId": "0e906af7-50d4-49bb-90a5-fb9c24c7736a"
      },
      "execution_count": null,
      "outputs": [
        {
          "output_type": "stream",
          "name": "stderr",
          "text": [
            "<ipython-input-26-5dac02a2cd37>:3: MarkupResemblesLocatorWarning: The input looks more like a filename than markup. You may want to open this file and pass the filehandle into Beautiful Soup.\n",
            "  soup = BeautifulSoup(Poem, 'lxml') # To eliminate HTML entities like '&amp', '&quot', and '&gt', the lxml library should be installed with the command 'pip install lxml' as it serves as the HTML parser.\n"
          ]
        }
      ]
    },
    {
      "cell_type": "code",
      "source": [
        "# Replace NaN values in X_train with an empty string\n",
        "df.fillna('', inplace=True)\n",
        "print(\"Displaying the first 5 rows of the dataframe, showcasing both the original and cleaned versions of the poem...\")\n",
        "print(df[['Genre','cleaned_Poem']].head())"
      ],
      "metadata": {
        "colab": {
          "base_uri": "https://localhost:8080/"
        },
        "id": "g6OECLC7F-wa",
        "outputId": "36dc20d3-42ae-4832-89e4-395b2858bf2a"
      },
      "execution_count": null,
      "outputs": [
        {
          "output_type": "stream",
          "name": "stdout",
          "text": [
            "Displaying the first 5 rows of the dataframe, showcasing both the original and cleaned versions of the poem...\n",
            "   Genre  \\\n",
            "1  Music   \n",
            "2  Music   \n",
            "3  Music   \n",
            "4  Music   \n",
            "5  Music   \n",
            "\n",
            "                                                                                                                                                                                   cleaned_Poem  \n",
            "1                                                                   [thick, brushthey, spend, hottest, part, day, soak, hoovesin, trickle, mountain, water, ravine, hoardson, behalf, oleander]  \n",
            "2                                                                                                                [storm, generous, something, easy, surrender, sit, window, step, garden, bore]  \n",
            "3  [ana, mendieta, carry, around, matin, star, hold, forest, fire, one, hand, would, wake, radiate, shimmer, gleam, lucero, light, morning, would, measure, wingspan, idea, take, night, would]  \n",
            "4                                        [aja, sherrard, portent, may, memory, wallace, stevenshow, hard, carry, score, adults, back, look, carrions, need, distressof, loyalty, require, pain]  \n",
            "5                                                     [bob, marley, bavaria, november, brilliant, morning, fish, boat, dream, die, man, midwinter, world, cover, light, shadow, dream, st, ann]  \n"
          ]
        },
        {
          "output_type": "stream",
          "name": "stderr",
          "text": [
            "<ipython-input-28-5a3e6f135409>:2: SettingWithCopyWarning: \n",
            "A value is trying to be set on a copy of a slice from a DataFrame\n",
            "\n",
            "See the caveats in the documentation: https://pandas.pydata.org/pandas-docs/stable/user_guide/indexing.html#returning-a-view-versus-a-copy\n",
            "  df.fillna('', inplace=True)\n"
          ]
        }
      ]
    },
    {
      "cell_type": "code",
      "source": [
        "df"
      ],
      "metadata": {
        "colab": {
          "base_uri": "https://localhost:8080/",
          "height": 701
        },
        "id": "CfVVhrfN-K-x",
        "outputId": "01aed5c4-762f-4f41-dc6f-faf9aef06555"
      },
      "execution_count": null,
      "outputs": [
        {
          "output_type": "execute_result",
          "data": {
            "text/plain": [
              "           Genre  \\\n",
              "1          Music   \n",
              "2          Music   \n",
              "3          Music   \n",
              "4          Music   \n",
              "5          Music   \n",
              "..           ...   \n",
              "836  Environment   \n",
              "837  Environment   \n",
              "838  Environment   \n",
              "839  Environment   \n",
              "840  Environment   \n",
              "\n",
              "                                                                                                                                                                                                                                                                                                                                                            Poem  \\\n",
              "1                                                                                                                                                                In the thick brushthey spend the hottest part of the day,              soaking their hoovesin the trickle of mountain water              the ravine hoardson behalf of the oleander.              \n",
              "2                                                                                                                                                                   Storms are generous.                                      Something so easy to surrender to, sitting by the window, and then you step out into the garden you were so bored of,                \n",
              "3                                                                                                              —After Ana Mendieta Did you carry around the matin star? Did you hold forest-fire in one hand? Would you wake to radiate, shimmer, gleam lucero-light? Through the morning would you measure the wingspan of an idea taking off— & by night would   \n",
              "4                                                                                                                                               for Aja Sherrard at 20The portent may itself be memory. —Wallace StevensHow hard to carry scores of adults on your back,not look at them as carrions of need, the distressof what loyalty requires. This pain is   \n",
              "5                                                                                                                                                           for Bob Marley, Bavaria, November 1980 Here is the brilliant morning on a fishing boat, this is the dream a dying man has in midwinter, the world covered in light and shadow—he dreams of St. Ann’s   \n",
              "..                                                                                                                                                                                                                                                                                                                                                           ...   \n",
              "836                                           Why make so much of fragmentary blue In here and there a bird, or butterfly, Or flower, or wearing-stone, or open eye, When heaven presents in sheets the solid hue?Since earth is earth, perhaps, not heaven (as yet)— Though some savants make earth include the sky; And blue so far above us comes so high, It   \n",
              "837                                                                                                Woman, I wish I didn't know your name. What could you be? Silence in my house& the front yard where the dogwoodwouldn't make up its mind about flowers.Aren't you Nature? A stem cringing, half- shadowed beneath a torque of rain.I too am leaving. I too am   \n",
              "838                                                                                                                Yonder to the kiosk, beside the creek, Paddle the swift caque. Thou brawny oarsman with the sunburnt cheek, Quick! for it soothes my heart to hear the Bulbul speak.Ferry me quickly to the Asian shores, Swift bending to your oars. Beneath   \n",
              "839                                                          You come to fetch me from my work to-night When supper's on the table, and we'll see If I can leave off burying the white Soft petals fallen from the apple tree. (Soft petals, yes, but not so barren quite, Mingled with these, smooth bean and wrinkled pea;) And go along with you ere you lose   \n",
              "840  You see them through water and glass, (both liquids) and through air with plenty of liquid in it —water is moving through the air— you see the large dolphins animated, unfractious in their nativedrink, going back and forth interacting with some sort of rings—in a minute-long video— in a loop, we see these dolphins again and again looping through   \n",
              "\n",
              "                                                                                                                                                                                                                               cleaned_Poem  \n",
              "1                                                                                                               [thick, brushthey, spend, hottest, part, day, soak, hoovesin, trickle, mountain, water, ravine, hoardson, behalf, oleander]  \n",
              "2                                                                                                                                                            [storm, generous, something, easy, surrender, sit, window, step, garden, bore]  \n",
              "3                                              [ana, mendieta, carry, around, matin, star, hold, forest, fire, one, hand, would, wake, radiate, shimmer, gleam, lucero, light, morning, would, measure, wingspan, idea, take, night, would]  \n",
              "4                                                                                    [aja, sherrard, portent, may, memory, wallace, stevenshow, hard, carry, score, adults, back, look, carrions, need, distressof, loyalty, require, pain]  \n",
              "5                                                                                                 [bob, marley, bavaria, november, brilliant, morning, fish, boat, dream, die, man, midwinter, world, cover, light, shadow, dream, st, ann]  \n",
              "..                                                                                                                                                                                                                                      ...  \n",
              "836  [make, much, fragmentary, blue, bird, butterfly, flower, wear, stone, open, eye, heaven, present, sheet, solid, hue, since, earth, earth, perhaps, heaven, yet, though, savants, make, earth, include, sky, blue, far, us, come, high]  \n",
              "837                                                                      [woman, wish, know, name, could, silence, house, front, yard, dogwoodwouldn, make, mind, flower, nature, stem, cringe, half, shadow, beneath, torque, rain, leave]  \n",
              "838                                       [yonder, kiosk, beside, creek, paddle, swift, caque, thou, brawny, oarsman, sunburnt, cheek, quick, soothe, heart, hear, bulbul, speak, ferry, quickly, asian, shore, swift, bend, oars, beneath]  \n",
              "839                                         [come, fetch, work, night, supper, table, see, leave, bury, white, soft, petals, fall, apple, tree, soft, petals, yes, barren, quite, mingle, smooth, bean, wrinkle, pea, go, along, ere, lose]  \n",
              "840                     [see, water, glass, liquids, air, plenty, liquid, water, move, air, see, large, dolphins, animate, unfractious, nativedrink, go, back, forth, interact, sort, ring, minute, long, video, loop, see, dolphins, loop]  \n",
              "\n",
              "[837 rows x 3 columns]"
            ],
            "text/html": [
              "\n",
              "  <div id=\"df-590ad771-eaf3-4d1e-9701-c10b3fc9b6e0\" class=\"colab-df-container\">\n",
              "    <div>\n",
              "<style scoped>\n",
              "    .dataframe tbody tr th:only-of-type {\n",
              "        vertical-align: middle;\n",
              "    }\n",
              "\n",
              "    .dataframe tbody tr th {\n",
              "        vertical-align: top;\n",
              "    }\n",
              "\n",
              "    .dataframe thead th {\n",
              "        text-align: right;\n",
              "    }\n",
              "</style>\n",
              "<table border=\"1\" class=\"dataframe\">\n",
              "  <thead>\n",
              "    <tr style=\"text-align: right;\">\n",
              "      <th></th>\n",
              "      <th>Genre</th>\n",
              "      <th>Poem</th>\n",
              "      <th>cleaned_Poem</th>\n",
              "    </tr>\n",
              "  </thead>\n",
              "  <tbody>\n",
              "    <tr>\n",
              "      <th>1</th>\n",
              "      <td>Music</td>\n",
              "      <td>In the thick brushthey spend the hottest part of the day,              soaking their hoovesin the trickle of mountain water              the ravine hoardson behalf of the oleander.</td>\n",
              "      <td>[thick, brushthey, spend, hottest, part, day, soak, hoovesin, trickle, mountain, water, ravine, hoardson, behalf, oleander]</td>\n",
              "    </tr>\n",
              "    <tr>\n",
              "      <th>2</th>\n",
              "      <td>Music</td>\n",
              "      <td>Storms are generous.                                      Something so easy to surrender to, sitting by the window, and then you step out into the garden you were so bored of,</td>\n",
              "      <td>[storm, generous, something, easy, surrender, sit, window, step, garden, bore]</td>\n",
              "    </tr>\n",
              "    <tr>\n",
              "      <th>3</th>\n",
              "      <td>Music</td>\n",
              "      <td>—After Ana Mendieta Did you carry around the matin star? Did you hold forest-fire in one hand? Would you wake to radiate, shimmer, gleam lucero-light? Through the morning would you measure the wingspan of an idea taking off— &amp; by night would</td>\n",
              "      <td>[ana, mendieta, carry, around, matin, star, hold, forest, fire, one, hand, would, wake, radiate, shimmer, gleam, lucero, light, morning, would, measure, wingspan, idea, take, night, would]</td>\n",
              "    </tr>\n",
              "    <tr>\n",
              "      <th>4</th>\n",
              "      <td>Music</td>\n",
              "      <td>for Aja Sherrard at 20The portent may itself be memory. —Wallace StevensHow hard to carry scores of adults on your back,not look at them as carrions of need, the distressof what loyalty requires. This pain is</td>\n",
              "      <td>[aja, sherrard, portent, may, memory, wallace, stevenshow, hard, carry, score, adults, back, look, carrions, need, distressof, loyalty, require, pain]</td>\n",
              "    </tr>\n",
              "    <tr>\n",
              "      <th>5</th>\n",
              "      <td>Music</td>\n",
              "      <td>for Bob Marley, Bavaria, November 1980 Here is the brilliant morning on a fishing boat, this is the dream a dying man has in midwinter, the world covered in light and shadow—he dreams of St. Ann’s</td>\n",
              "      <td>[bob, marley, bavaria, november, brilliant, morning, fish, boat, dream, die, man, midwinter, world, cover, light, shadow, dream, st, ann]</td>\n",
              "    </tr>\n",
              "    <tr>\n",
              "      <th>...</th>\n",
              "      <td>...</td>\n",
              "      <td>...</td>\n",
              "      <td>...</td>\n",
              "    </tr>\n",
              "    <tr>\n",
              "      <th>836</th>\n",
              "      <td>Environment</td>\n",
              "      <td>Why make so much of fragmentary blue In here and there a bird, or butterfly, Or flower, or wearing-stone, or open eye, When heaven presents in sheets the solid hue?Since earth is earth, perhaps, not heaven (as yet)— Though some savants make earth include the sky; And blue so far above us comes so high, It</td>\n",
              "      <td>[make, much, fragmentary, blue, bird, butterfly, flower, wear, stone, open, eye, heaven, present, sheet, solid, hue, since, earth, earth, perhaps, heaven, yet, though, savants, make, earth, include, sky, blue, far, us, come, high]</td>\n",
              "    </tr>\n",
              "    <tr>\n",
              "      <th>837</th>\n",
              "      <td>Environment</td>\n",
              "      <td>Woman, I wish I didn't know your name. What could you be? Silence in my house&amp; the front yard where the dogwoodwouldn't make up its mind about flowers.Aren't you Nature? A stem cringing, half- shadowed beneath a torque of rain.I too am leaving. I too am</td>\n",
              "      <td>[woman, wish, know, name, could, silence, house, front, yard, dogwoodwouldn, make, mind, flower, nature, stem, cringe, half, shadow, beneath, torque, rain, leave]</td>\n",
              "    </tr>\n",
              "    <tr>\n",
              "      <th>838</th>\n",
              "      <td>Environment</td>\n",
              "      <td>Yonder to the kiosk, beside the creek, Paddle the swift caque. Thou brawny oarsman with the sunburnt cheek, Quick! for it soothes my heart to hear the Bulbul speak.Ferry me quickly to the Asian shores, Swift bending to your oars. Beneath</td>\n",
              "      <td>[yonder, kiosk, beside, creek, paddle, swift, caque, thou, brawny, oarsman, sunburnt, cheek, quick, soothe, heart, hear, bulbul, speak, ferry, quickly, asian, shore, swift, bend, oars, beneath]</td>\n",
              "    </tr>\n",
              "    <tr>\n",
              "      <th>839</th>\n",
              "      <td>Environment</td>\n",
              "      <td>You come to fetch me from my work to-night When supper's on the table, and we'll see If I can leave off burying the white Soft petals fallen from the apple tree. (Soft petals, yes, but not so barren quite, Mingled with these, smooth bean and wrinkled pea;) And go along with you ere you lose</td>\n",
              "      <td>[come, fetch, work, night, supper, table, see, leave, bury, white, soft, petals, fall, apple, tree, soft, petals, yes, barren, quite, mingle, smooth, bean, wrinkle, pea, go, along, ere, lose]</td>\n",
              "    </tr>\n",
              "    <tr>\n",
              "      <th>840</th>\n",
              "      <td>Environment</td>\n",
              "      <td>You see them through water and glass, (both liquids) and through air with plenty of liquid in it —water is moving through the air— you see the large dolphins animated, unfractious in their nativedrink, going back and forth interacting with some sort of rings—in a minute-long video— in a loop, we see these dolphins again and again looping through</td>\n",
              "      <td>[see, water, glass, liquids, air, plenty, liquid, water, move, air, see, large, dolphins, animate, unfractious, nativedrink, go, back, forth, interact, sort, ring, minute, long, video, loop, see, dolphins, loop]</td>\n",
              "    </tr>\n",
              "  </tbody>\n",
              "</table>\n",
              "<p>837 rows × 3 columns</p>\n",
              "</div>\n",
              "    <div class=\"colab-df-buttons\">\n",
              "\n",
              "  <div class=\"colab-df-container\">\n",
              "    <button class=\"colab-df-convert\" onclick=\"convertToInteractive('df-590ad771-eaf3-4d1e-9701-c10b3fc9b6e0')\"\n",
              "            title=\"Convert this dataframe to an interactive table.\"\n",
              "            style=\"display:none;\">\n",
              "\n",
              "  <svg xmlns=\"http://www.w3.org/2000/svg\" height=\"24px\" viewBox=\"0 -960 960 960\">\n",
              "    <path d=\"M120-120v-720h720v720H120Zm60-500h600v-160H180v160Zm220 220h160v-160H400v160Zm0 220h160v-160H400v160ZM180-400h160v-160H180v160Zm440 0h160v-160H620v160ZM180-180h160v-160H180v160Zm440 0h160v-160H620v160Z\"/>\n",
              "  </svg>\n",
              "    </button>\n",
              "\n",
              "  <style>\n",
              "    .colab-df-container {\n",
              "      display:flex;\n",
              "      gap: 12px;\n",
              "    }\n",
              "\n",
              "    .colab-df-convert {\n",
              "      background-color: #E8F0FE;\n",
              "      border: none;\n",
              "      border-radius: 50%;\n",
              "      cursor: pointer;\n",
              "      display: none;\n",
              "      fill: #1967D2;\n",
              "      height: 32px;\n",
              "      padding: 0 0 0 0;\n",
              "      width: 32px;\n",
              "    }\n",
              "\n",
              "    .colab-df-convert:hover {\n",
              "      background-color: #E2EBFA;\n",
              "      box-shadow: 0px 1px 2px rgba(60, 64, 67, 0.3), 0px 1px 3px 1px rgba(60, 64, 67, 0.15);\n",
              "      fill: #174EA6;\n",
              "    }\n",
              "\n",
              "    .colab-df-buttons div {\n",
              "      margin-bottom: 4px;\n",
              "    }\n",
              "\n",
              "    [theme=dark] .colab-df-convert {\n",
              "      background-color: #3B4455;\n",
              "      fill: #D2E3FC;\n",
              "    }\n",
              "\n",
              "    [theme=dark] .colab-df-convert:hover {\n",
              "      background-color: #434B5C;\n",
              "      box-shadow: 0px 1px 3px 1px rgba(0, 0, 0, 0.15);\n",
              "      filter: drop-shadow(0px 1px 2px rgba(0, 0, 0, 0.3));\n",
              "      fill: #FFFFFF;\n",
              "    }\n",
              "  </style>\n",
              "\n",
              "    <script>\n",
              "      const buttonEl =\n",
              "        document.querySelector('#df-590ad771-eaf3-4d1e-9701-c10b3fc9b6e0 button.colab-df-convert');\n",
              "      buttonEl.style.display =\n",
              "        google.colab.kernel.accessAllowed ? 'block' : 'none';\n",
              "\n",
              "      async function convertToInteractive(key) {\n",
              "        const element = document.querySelector('#df-590ad771-eaf3-4d1e-9701-c10b3fc9b6e0');\n",
              "        const dataTable =\n",
              "          await google.colab.kernel.invokeFunction('convertToInteractive',\n",
              "                                                    [key], {});\n",
              "        if (!dataTable) return;\n",
              "\n",
              "        const docLinkHtml = 'Like what you see? Visit the ' +\n",
              "          '<a target=\"_blank\" href=https://colab.research.google.com/notebooks/data_table.ipynb>data table notebook</a>'\n",
              "          + ' to learn more about interactive tables.';\n",
              "        element.innerHTML = '';\n",
              "        dataTable['output_type'] = 'display_data';\n",
              "        await google.colab.output.renderOutput(dataTable, element);\n",
              "        const docLink = document.createElement('div');\n",
              "        docLink.innerHTML = docLinkHtml;\n",
              "        element.appendChild(docLink);\n",
              "      }\n",
              "    </script>\n",
              "  </div>\n",
              "\n",
              "\n",
              "<div id=\"df-10a67653-92fc-4b0d-bb80-ebd8bc6bfeef\">\n",
              "  <button class=\"colab-df-quickchart\" onclick=\"quickchart('df-10a67653-92fc-4b0d-bb80-ebd8bc6bfeef')\"\n",
              "            title=\"Suggest charts\"\n",
              "            style=\"display:none;\">\n",
              "\n",
              "<svg xmlns=\"http://www.w3.org/2000/svg\" height=\"24px\"viewBox=\"0 0 24 24\"\n",
              "     width=\"24px\">\n",
              "    <g>\n",
              "        <path d=\"M19 3H5c-1.1 0-2 .9-2 2v14c0 1.1.9 2 2 2h14c1.1 0 2-.9 2-2V5c0-1.1-.9-2-2-2zM9 17H7v-7h2v7zm4 0h-2V7h2v10zm4 0h-2v-4h2v4z\"/>\n",
              "    </g>\n",
              "</svg>\n",
              "  </button>\n",
              "\n",
              "<style>\n",
              "  .colab-df-quickchart {\n",
              "      --bg-color: #E8F0FE;\n",
              "      --fill-color: #1967D2;\n",
              "      --hover-bg-color: #E2EBFA;\n",
              "      --hover-fill-color: #174EA6;\n",
              "      --disabled-fill-color: #AAA;\n",
              "      --disabled-bg-color: #DDD;\n",
              "  }\n",
              "\n",
              "  [theme=dark] .colab-df-quickchart {\n",
              "      --bg-color: #3B4455;\n",
              "      --fill-color: #D2E3FC;\n",
              "      --hover-bg-color: #434B5C;\n",
              "      --hover-fill-color: #FFFFFF;\n",
              "      --disabled-bg-color: #3B4455;\n",
              "      --disabled-fill-color: #666;\n",
              "  }\n",
              "\n",
              "  .colab-df-quickchart {\n",
              "    background-color: var(--bg-color);\n",
              "    border: none;\n",
              "    border-radius: 50%;\n",
              "    cursor: pointer;\n",
              "    display: none;\n",
              "    fill: var(--fill-color);\n",
              "    height: 32px;\n",
              "    padding: 0;\n",
              "    width: 32px;\n",
              "  }\n",
              "\n",
              "  .colab-df-quickchart:hover {\n",
              "    background-color: var(--hover-bg-color);\n",
              "    box-shadow: 0 1px 2px rgba(60, 64, 67, 0.3), 0 1px 3px 1px rgba(60, 64, 67, 0.15);\n",
              "    fill: var(--button-hover-fill-color);\n",
              "  }\n",
              "\n",
              "  .colab-df-quickchart-complete:disabled,\n",
              "  .colab-df-quickchart-complete:disabled:hover {\n",
              "    background-color: var(--disabled-bg-color);\n",
              "    fill: var(--disabled-fill-color);\n",
              "    box-shadow: none;\n",
              "  }\n",
              "\n",
              "  .colab-df-spinner {\n",
              "    border: 2px solid var(--fill-color);\n",
              "    border-color: transparent;\n",
              "    border-bottom-color: var(--fill-color);\n",
              "    animation:\n",
              "      spin 1s steps(1) infinite;\n",
              "  }\n",
              "\n",
              "  @keyframes spin {\n",
              "    0% {\n",
              "      border-color: transparent;\n",
              "      border-bottom-color: var(--fill-color);\n",
              "      border-left-color: var(--fill-color);\n",
              "    }\n",
              "    20% {\n",
              "      border-color: transparent;\n",
              "      border-left-color: var(--fill-color);\n",
              "      border-top-color: var(--fill-color);\n",
              "    }\n",
              "    30% {\n",
              "      border-color: transparent;\n",
              "      border-left-color: var(--fill-color);\n",
              "      border-top-color: var(--fill-color);\n",
              "      border-right-color: var(--fill-color);\n",
              "    }\n",
              "    40% {\n",
              "      border-color: transparent;\n",
              "      border-right-color: var(--fill-color);\n",
              "      border-top-color: var(--fill-color);\n",
              "    }\n",
              "    60% {\n",
              "      border-color: transparent;\n",
              "      border-right-color: var(--fill-color);\n",
              "    }\n",
              "    80% {\n",
              "      border-color: transparent;\n",
              "      border-right-color: var(--fill-color);\n",
              "      border-bottom-color: var(--fill-color);\n",
              "    }\n",
              "    90% {\n",
              "      border-color: transparent;\n",
              "      border-bottom-color: var(--fill-color);\n",
              "    }\n",
              "  }\n",
              "</style>\n",
              "\n",
              "  <script>\n",
              "    async function quickchart(key) {\n",
              "      const quickchartButtonEl =\n",
              "        document.querySelector('#' + key + ' button');\n",
              "      quickchartButtonEl.disabled = true;  // To prevent multiple clicks.\n",
              "      quickchartButtonEl.classList.add('colab-df-spinner');\n",
              "      try {\n",
              "        const charts = await google.colab.kernel.invokeFunction(\n",
              "            'suggestCharts', [key], {});\n",
              "      } catch (error) {\n",
              "        console.error('Error during call to suggestCharts:', error);\n",
              "      }\n",
              "      quickchartButtonEl.classList.remove('colab-df-spinner');\n",
              "      quickchartButtonEl.classList.add('colab-df-quickchart-complete');\n",
              "    }\n",
              "    (() => {\n",
              "      let quickchartButtonEl =\n",
              "        document.querySelector('#df-10a67653-92fc-4b0d-bb80-ebd8bc6bfeef button');\n",
              "      quickchartButtonEl.style.display =\n",
              "        google.colab.kernel.accessAllowed ? 'block' : 'none';\n",
              "    })();\n",
              "  </script>\n",
              "</div>\n",
              "    </div>\n",
              "  </div>\n"
            ]
          },
          "metadata": {},
          "execution_count": 29
        }
      ]
    },
    {
      "cell_type": "code",
      "source": [
        "# Saving cleaned Poem to csv\n",
        "df.to_csv('cleaned_data.csv', index=False)\n",
        "df['cleaned_Poem'] = [\" \".join(row) for row in df['cleaned_Poem'].values] # joining tokens to create strings. TfidfVectorizer does not accept tokens as input\n",
        "data = df['cleaned_Poem']\n",
        "Y = df['Genre'] # target column\n",
        "tfidf = TfidfVectorizer(min_df=.00015, ngram_range=(1,3)) # min_df=.00015A implies that each ngram (unigram, bigram, & trigram) must appear in a minimum of 30 documents in order to be considered as a token. This represents a smart approach to feature engineering.\n",
        "tfidf.fit(data) # learn the entire data vocabulary\n",
        "data_tfidf = tfidf.transform(data) # generating tfidf values\n",
        "pd.DataFrame(pd.Series(tfidf.get_feature_names_out())).to_csv('vocabulary.csv', header=False, index=False)\n",
        "print(\"Shape of tfidf matrix: \", data_tfidf.shape)"
      ],
      "metadata": {
        "colab": {
          "base_uri": "https://localhost:8080/"
        },
        "id": "F9A-WvT9GCkM",
        "outputId": "ce11f969-b4d0-454e-80c7-21a04d7dea3a"
      },
      "execution_count": null,
      "outputs": [
        {
          "output_type": "stream",
          "name": "stderr",
          "text": [
            "<ipython-input-30-765dbaacddc6>:3: SettingWithCopyWarning: \n",
            "A value is trying to be set on a copy of a slice from a DataFrame.\n",
            "Try using .loc[row_indexer,col_indexer] = value instead\n",
            "\n",
            "See the caveats in the documentation: https://pandas.pydata.org/pandas-docs/stable/user_guide/indexing.html#returning-a-view-versus-a-copy\n",
            "  df['cleaned_Poem'] = [\" \".join(row) for row in df['cleaned_Poem'].values] # joining tokens to create strings. TfidfVectorizer does not accept tokens as input\n"
          ]
        },
        {
          "output_type": "stream",
          "name": "stdout",
          "text": [
            "Shape of tfidf matrix:  (837, 44845)\n"
          ]
        }
      ]
    },
    {
      "cell_type": "code",
      "source": [
        "#Implementing Logistics Regression\n",
        "\n",
        "# Split the data into features (Genre) and labels (Poem)\n",
        "X = df['Poem'] # Features\n",
        "y = df['Genre']  # Labels"
      ],
      "metadata": {
        "id": "bQK4Qk7uGQcc"
      },
      "execution_count": null,
      "outputs": []
    },
    {
      "cell_type": "code",
      "source": [
        "# Split the data into training and testing sets (70% train, 30% test)\n",
        "X_train, X_test, y_train, y_test = train_test_split(X, y, test_size=0.3, random_state=42)"
      ],
      "metadata": {
        "id": "p5gnkj-zHMUN"
      },
      "execution_count": null,
      "outputs": []
    },
    {
      "cell_type": "code",
      "source": [
        "# Define a TF-IDF Vectorizer and Logistic Regression classifier\n",
        "tfidf = TfidfVectorizer(max_features=1000)\n",
        "log_reg = LogisticRegression(max_iter=1000)\n",
        "\n",
        "\n",
        "# Create a pipeline\n",
        "pipeline = Pipeline([\n",
        "    ('tfidf', tfidf),\n",
        "    ('logistic_regression', log_reg)\n",
        "])\n"
      ],
      "metadata": {
        "id": "hGXzjYqwHYAT"
      },
      "execution_count": null,
      "outputs": []
    },
    {
      "cell_type": "code",
      "source": [
        "# Fit the model on the training data\n",
        "pipeline.fit(X_train, y_train)"
      ],
      "metadata": {
        "colab": {
          "base_uri": "https://localhost:8080/",
          "height": 126
        },
        "id": "TGVNATUiHgL-",
        "outputId": "36ffe763-530d-4f29-d9c4-20c647d8d127"
      },
      "execution_count": null,
      "outputs": [
        {
          "output_type": "execute_result",
          "data": {
            "text/plain": [
              "Pipeline(steps=[('tfidf', TfidfVectorizer(max_features=1000)),\n",
              "                ('naive_bayes', LogisticRegression(max_iter=1000))])"
            ],
            "text/html": [
              "<style>#sk-container-id-2 {color: black;background-color: white;}#sk-container-id-2 pre{padding: 0;}#sk-container-id-2 div.sk-toggleable {background-color: white;}#sk-container-id-2 label.sk-toggleable__label {cursor: pointer;display: block;width: 100%;margin-bottom: 0;padding: 0.3em;box-sizing: border-box;text-align: center;}#sk-container-id-2 label.sk-toggleable__label-arrow:before {content: \"▸\";float: left;margin-right: 0.25em;color: #696969;}#sk-container-id-2 label.sk-toggleable__label-arrow:hover:before {color: black;}#sk-container-id-2 div.sk-estimator:hover label.sk-toggleable__label-arrow:before {color: black;}#sk-container-id-2 div.sk-toggleable__content {max-height: 0;max-width: 0;overflow: hidden;text-align: left;background-color: #f0f8ff;}#sk-container-id-2 div.sk-toggleable__content pre {margin: 0.2em;color: black;border-radius: 0.25em;background-color: #f0f8ff;}#sk-container-id-2 input.sk-toggleable__control:checked~div.sk-toggleable__content {max-height: 200px;max-width: 100%;overflow: auto;}#sk-container-id-2 input.sk-toggleable__control:checked~label.sk-toggleable__label-arrow:before {content: \"▾\";}#sk-container-id-2 div.sk-estimator input.sk-toggleable__control:checked~label.sk-toggleable__label {background-color: #d4ebff;}#sk-container-id-2 div.sk-label input.sk-toggleable__control:checked~label.sk-toggleable__label {background-color: #d4ebff;}#sk-container-id-2 input.sk-hidden--visually {border: 0;clip: rect(1px 1px 1px 1px);clip: rect(1px, 1px, 1px, 1px);height: 1px;margin: -1px;overflow: hidden;padding: 0;position: absolute;width: 1px;}#sk-container-id-2 div.sk-estimator {font-family: monospace;background-color: #f0f8ff;border: 1px dotted black;border-radius: 0.25em;box-sizing: border-box;margin-bottom: 0.5em;}#sk-container-id-2 div.sk-estimator:hover {background-color: #d4ebff;}#sk-container-id-2 div.sk-parallel-item::after {content: \"\";width: 100%;border-bottom: 1px solid gray;flex-grow: 1;}#sk-container-id-2 div.sk-label:hover label.sk-toggleable__label {background-color: #d4ebff;}#sk-container-id-2 div.sk-serial::before {content: \"\";position: absolute;border-left: 1px solid gray;box-sizing: border-box;top: 0;bottom: 0;left: 50%;z-index: 0;}#sk-container-id-2 div.sk-serial {display: flex;flex-direction: column;align-items: center;background-color: white;padding-right: 0.2em;padding-left: 0.2em;position: relative;}#sk-container-id-2 div.sk-item {position: relative;z-index: 1;}#sk-container-id-2 div.sk-parallel {display: flex;align-items: stretch;justify-content: center;background-color: white;position: relative;}#sk-container-id-2 div.sk-item::before, #sk-container-id-2 div.sk-parallel-item::before {content: \"\";position: absolute;border-left: 1px solid gray;box-sizing: border-box;top: 0;bottom: 0;left: 50%;z-index: -1;}#sk-container-id-2 div.sk-parallel-item {display: flex;flex-direction: column;z-index: 1;position: relative;background-color: white;}#sk-container-id-2 div.sk-parallel-item:first-child::after {align-self: flex-end;width: 50%;}#sk-container-id-2 div.sk-parallel-item:last-child::after {align-self: flex-start;width: 50%;}#sk-container-id-2 div.sk-parallel-item:only-child::after {width: 0;}#sk-container-id-2 div.sk-dashed-wrapped {border: 1px dashed gray;margin: 0 0.4em 0.5em 0.4em;box-sizing: border-box;padding-bottom: 0.4em;background-color: white;}#sk-container-id-2 div.sk-label label {font-family: monospace;font-weight: bold;display: inline-block;line-height: 1.2em;}#sk-container-id-2 div.sk-label-container {text-align: center;}#sk-container-id-2 div.sk-container {/* jupyter's `normalize.less` sets `[hidden] { display: none; }` but bootstrap.min.css set `[hidden] { display: none !important; }` so we also need the `!important` here to be able to override the default hidden behavior on the sphinx rendered scikit-learn.org. See: https://github.com/scikit-learn/scikit-learn/issues/21755 */display: inline-block !important;position: relative;}#sk-container-id-2 div.sk-text-repr-fallback {display: none;}</style><div id=\"sk-container-id-2\" class=\"sk-top-container\"><div class=\"sk-text-repr-fallback\"><pre>Pipeline(steps=[(&#x27;tfidf&#x27;, TfidfVectorizer(max_features=1000)),\n",
              "                (&#x27;naive_bayes&#x27;, LogisticRegression(max_iter=1000))])</pre><b>In a Jupyter environment, please rerun this cell to show the HTML representation or trust the notebook. <br />On GitHub, the HTML representation is unable to render, please try loading this page with nbviewer.org.</b></div><div class=\"sk-container\" hidden><div class=\"sk-item sk-dashed-wrapped\"><div class=\"sk-label-container\"><div class=\"sk-label sk-toggleable\"><input class=\"sk-toggleable__control sk-hidden--visually\" id=\"sk-estimator-id-4\" type=\"checkbox\" ><label for=\"sk-estimator-id-4\" class=\"sk-toggleable__label sk-toggleable__label-arrow\">Pipeline</label><div class=\"sk-toggleable__content\"><pre>Pipeline(steps=[(&#x27;tfidf&#x27;, TfidfVectorizer(max_features=1000)),\n",
              "                (&#x27;naive_bayes&#x27;, LogisticRegression(max_iter=1000))])</pre></div></div></div><div class=\"sk-serial\"><div class=\"sk-item\"><div class=\"sk-estimator sk-toggleable\"><input class=\"sk-toggleable__control sk-hidden--visually\" id=\"sk-estimator-id-5\" type=\"checkbox\" ><label for=\"sk-estimator-id-5\" class=\"sk-toggleable__label sk-toggleable__label-arrow\">TfidfVectorizer</label><div class=\"sk-toggleable__content\"><pre>TfidfVectorizer(max_features=1000)</pre></div></div></div><div class=\"sk-item\"><div class=\"sk-estimator sk-toggleable\"><input class=\"sk-toggleable__control sk-hidden--visually\" id=\"sk-estimator-id-6\" type=\"checkbox\" ><label for=\"sk-estimator-id-6\" class=\"sk-toggleable__label sk-toggleable__label-arrow\">LogisticRegression</label><div class=\"sk-toggleable__content\"><pre>LogisticRegression(max_iter=1000)</pre></div></div></div></div></div></div></div>"
            ]
          },
          "metadata": {},
          "execution_count": 36
        }
      ]
    },
    {
      "cell_type": "code",
      "source": [
        "\n",
        "# Make Prediction on the test set\n",
        "predictions = pipeline.predict(X_test)"
      ],
      "metadata": {
        "id": "X5HVpUi9HmEP"
      },
      "execution_count": null,
      "outputs": []
    },
    {
      "cell_type": "code",
      "source": [
        "# Model Evaluation\n",
        "accuracy = accuracy_score(y_test, predictions)\n",
        "print(f\"Accuracy: {accuracy:.4f}\")"
      ],
      "metadata": {
        "colab": {
          "base_uri": "https://localhost:8080/"
        },
        "id": "Ir0gRAErITTe",
        "outputId": "65ed9a90-938c-4585-cd63-02be6acdd6b4"
      },
      "execution_count": null,
      "outputs": [
        {
          "output_type": "stream",
          "name": "stdout",
          "text": [
            "Accuracy: 0.4524\n"
          ]
        }
      ]
    },
    {
      "cell_type": "markdown",
      "source": [
        "A accuracy score of 0.4524, sometimes denoted as 45.24%, indicates that approximately 45.24% of the model's predictions were accurate."
      ],
      "metadata": {
        "id": "A4RWUAAA6ZG5"
      }
    },
    {
      "cell_type": "code",
      "source": [
        "# Display classification report\n",
        "print(\"Classification Report:\")\n",
        "print(classification_report(y_test, predictions))"
      ],
      "metadata": {
        "colab": {
          "base_uri": "https://localhost:8080/"
        },
        "id": "1NO84FXlH3Pz",
        "outputId": "4ab71c2e-813f-46c1-96b5-ecbb349e2c51"
      },
      "execution_count": null,
      "outputs": [
        {
          "output_type": "stream",
          "name": "stdout",
          "text": [
            "Classification Report:\n",
            "                                                                                                                                                                                                                                                                                                                                                                                                                                                                                       precision    recall  f1-score   support\n",
            "\n",
            "                                                                                                                                                                                                                                                                                                                                                                                                                                                                                            0.01      1.00      0.01         1\n",
            "                                                                                                                                                                                                                                                                                (For Alden March)With dropping sail and pennant That never a wind may reach, They float in sunless waters Beside a sunless beach. Their mighty masts and funnels Are white as driven snow, And with a       0.00      0.00      0.00         1\n",
            "                                                                                                                                                                                                                                                                                                                           At midnight in the month of June,I stand beneath the mystic moon.An opiate vapour, dewy, dim,Exhales from out her golden rim,And, softly dripping, drop by       0.00      0.00      0.00         1\n",
            "                                                                                                                                                                                                                                                                                                                                   Dim vales—and shadowy floods—And cloudy-looking woods,Whose forms we can’t discoverFor the tears that drip all overHuge moons there wax and wane—        0.00      0.00      0.00         1\n",
            "                                                                                                                                                                                                                                                                                                                                                         Fair river! in thy bright, clear flowOf crystal, wandering water,Thou art an emblem of the glowOf beauty—the unhidden heart—       0.00      0.00      0.00         1\n",
            "                                                                                                                                                                                                                                                          For Frank X WalkerFXW: I don’t know how to swim Me: What?! FXW: There were no pools for Black Folk when I was coming up In sleep’s 3-D theatre: home,a green island surrounded by the blue of ocean. Zoom to the heart, see       0.00      0.00      0.00         1\n",
            "                                                                                                                                                                                                                                                                                                                                                                                                                                          GEORGEAUGUSTUSCLOUGH A NATIVE OF LIVERPOOL,       0.00      0.00      0.00         1\n",
            "                                                                                                                                                                                                                                                                                                                                  Lo! Death has reared himself a throneIn a strange city lying aloneFar down within the dim West,Wherethe good and the bad and the worst and the best       0.00      0.00      0.00         1\n",
            "                                                                                                                                                                                                                                                                                                                    My neighbor to the left had a stroke a couple years ago. It didn’t look like he was going to make it, and then he made it. I’m watching him now from my window as       0.00      0.00      0.00         1\n",
            "                                                                                                                                                                                                                                                                                 for Bob Marley, Bavaria, November 1980 Here is the brilliant morning on a fishing boat, this is the dream a dying man has in midwinter, the world covered in light and shadow—he dreams of St. Ann’s       0.00      0.00      0.00         1\n",
            "                                                                                                                                                                               \"Save your hands,” my mother says, seeing me untwist a jar's tight cap—just the way she used to tell me not to let boys fool around, or feelmy breasts: \"keep them fresh for marriage,” as if they were a pairof actual fruit. I scoffed to think they could bruise, scuff,soften, rot, wither. I look       0.00      0.00      0.00         1\n",
            "                                                                                                                                                                                               1 The cathedral being builtaround our split level house was so airy, it stretchedso high it was like a cloud of graniteand marble light the house rose up inside. At the time I didn’t notice masons laying coursesof stone ascending, flying buttressespushing back forces that would       0.00      0.00      0.00         1\n",
            "                                                                                                                                                  1 in my father's tomb the gods have been buried for millennia in Crete Mycenae Mexico or Babylon and your task, young ephebe, is radically changed we're not talking about singing in chorus by the light of the moon nor pretending to the warmth of a bonfire shepherding a metallic herd we're talking about carefully observing       0.00      0.00      0.00         1\n",
            "                                                                                                                                                                                                                                                  10maggie and milly and molly and maywent down to the beach(to play one day)and maggie discovered a shell that sangso sweetly she couldn't remember her troubles,andmilly befriended a stranded star whose rays five languid fingers       0.00      0.00      0.00         1\n",
            "                                                                                                                       A Tuesday, day of Tiw,god of war, dawns in darkness.The short holiday day of talking by the fire,floating on snowshoes amongancient self-pollarded maples,visiting, being visited, givinga rain gauge, receiving red socks,watching snow buntings nearly overtheir heads in snow stab at spirtled bitsof sunflower seeds the chickadeeshold with their feet to       0.00      0.00      0.00         1\n",
            "                                                                                                                                                                                                                                                                                     A humble flower long time I pined Upon the solitary plain, And trembled at the angry wind, And shrunk before the bitter rain. And oh! 'twas in a blessed hour A passing wanderer chanced to see,       0.00      0.00      0.00         1\n",
            "                                                                                                                                                                                                                                 A second ago my heart thump went and I thought, \"This would be a bad time to have a heart attack and die, in the middle of a poem,\" then took comfort in the idea that no one I have ever heardof has ever died in the middle of writinga poem, just       0.00      0.00      0.00         1\n",
            "                                                                                                                                                                             A shipping container of rubber duckies made in China for the US washed overboard in 1992, and some of them traveled and washed ashore over 17,000 miles over 15 years. Let’s go ahead and assume it’s yellow. What little of science I know: its plastic skin invincible against salt water, but not the       0.00      0.00      0.00         1\n",
            "                                                                                                                                                                                                A sight in camp in the daybreak gray and dim,As from my tent I emerge so early sleepless,As slow I walk in the cool fresh air the path near by the hospital tent,Three forms I see on stretchers lying, brought out there untended lying,Over each the blanket spread, ample brownish       0.00      0.00      0.00         1\n",
            "                                                                                                                                                                                                                                               After Ocean Vuong’s “Prayer for the Newly Damned”Dearest Mother, what becomes of the girl no longer a girl?The stretch marks from my once breasts have migrated to their new tectonicflats. But you can always find hints of what used       0.00      0.00      0.00         1\n",
            "                                                                                                                                                                                                                                                                                                                                                     After the exhibition “La Gravedad de Los Asuntos (Matters of Gravity)” The Mexicans and the Russians were always in on itThis is       0.00      0.00      0.00         1\n",
            "                                                                                                                                                                                     And after the black boy is strangled by police, after the protests where the man, his Rottweiler on an iron leash yells, let's go mash up dis city and another crowd bulks, the parents of the murdered beg us not to become the monsters some think we already are—even when the barista shakes       0.00      0.00      0.00         1\n",
            "                                                                                                                                                                                   And those other females who managed to slip the collar for a moment or two of life were branded “bad.”–Clarrisa Pinkola Estés, from Women Who Run with the Wolves: Myths and Stories of the Wild Woman ArchetypeThe secret nests in my marrow.At the striptease I appear pirouetteand prey. Later,       0.00      0.00      0.00         1\n",
            "                                                                                                                                                                                                                                                                                                             As from dark orchard leaves, from quiet scripts where each shape sends its tendril reaching— circle and line, the swaddled bud, the petiolesprung, an envelope tendered.       0.00      0.00      0.00         1\n",
            "                                                                                                                                                                                                                    At the desk where the boy sat, he sees the Chicago River. It raises its hand. It asks if metaphor should burn. He says fire is the basis for all forms of the mouth. He asks, why did you fill the boy with your going? I didn't know a boy had been added to me,       0.00      0.00      0.00         1\n",
            "                                                                                                                                                                                                                                          At the mosque’s entrance3:30 a.m. Syrian women beg wearing black gloves. Your father’s grandmother was Syrianbefore the country was ash.Before the government turnedto kill its people.What incites that internal blaze? What says it is me       0.00      0.00      0.00         1\n",
            "                                                                                          August sauntered down the mountain-side, Dropping mottled, turbid wraiths of decay. The air was like an old priest Disrobing without embarrassment Before the dark and candid gaze of night. But these things brought no pause To the saucily determined squirrel. His eyes were hungrily upturned To where the stars hung—icily clustered nuts Dotting trees of solitude. He saw the stars       0.00      0.00      0.00         1\n",
            "                                                                                                                                               Between forest and field, a thresholdlike stepping from a cathedral into the street— the quality of air alters, an eclipse lifts, boundlessness opens, earth itself retexturedinto weeds where woods once were. Even planes of motion shift from verticalnavigation to horizontal quiescence:there’s a standing invitation to lie back       0.00      0.00      0.00         1\n",
            "                                                                                                                                                          By Hannah Ensor and Laura WetheringtonIn meditation my thought-labeling has gotten more specific: raging. capital. scheming. What is the nothingness before the storm? I have tried to be tzim tzum. I have tried to forget the word MARTYR. So many parts of my life are like that, like when the thought comes and I keep       0.00      0.00      0.00         1\n",
            "                                                                                                                                                           Caretakers—died in 2009, 2010, 2011,2012, 2013, 2014, 2015, 2016, 2017,one after another.  One didn’t show upbecause her husband was arrested. Most others watched the clock.  Timebreaks for the living eventually and wecan walk out of doors.  The handle oftime’s door is hot for the dying.  Whatuse is a door if you       0.00      0.00      0.00         1\n",
            "                                                                                                                                       Cashel, Ireland, 2,000 B.C. In ancient Ireland, bogs were sacred areas; a cool wetland mirage metersdeep of peat during demoralizingdrought. Greenish-brown landscapeof mystery, insufferably slow plantgrowth. What must a farmer have thought as his wife offered a vessel of golden butter to appease a mercilessdeity? He plunges his hand       0.00      0.00      0.00         1\n",
            "                                                                                                                                                                    Christopher and Helen, our new expatriate friends,meet us at their favorite winerywhere they fill their plastic jerry cans from hosesexactly like the ones at gas stations,as though they were planning to go back home to Aixand treat their lawnmower to a nice red.Instead, they take us in their forest green       0.00      0.00      0.00         1\n",
            "                                                                                                                                                                                                                                                                   Cinched belt tugged tight around the heart 5 or 6 aerial roots danglingA strangler figDo homeless ancestors live inside the tree? Child of noiseHold the loosened endsYoumay miss the moon or fall in love with it       0.00      0.00      0.00         1\n",
            "                                                                                                                                                                                                                                                           Death, I say, my heart is bowedUnto thine, O mother! This red gown will make a shroudGood as any other.(I, that would not wait to wearMy own bridal things, In a dress dark as my hairMade my answerings.I, to-night, that       0.00      0.00      0.00         1\n",
            "                                                                                                                                                                                  Elizabeth it is in vain you say\"Love not\" — thou sayest it in so sweet a way:In vain those words from thee or L.E.L.Zantippe's talents had enforced so well:Ah! if that language from thy heart arise,Breath it less gently forth — and veil thine eyes.Endymion, recollect, when Luna triedTo cure       0.00      0.00      0.00         1\n",
            "                                                                                                  Evening and the flat land, Rich and sombre and always silent; The miles of fresh-plowed soil, Heavy and black, full of strength and harshness; The growing wheat, the growing weeds, The toiling horses, the tired men; The long empty roads, Sullen fires of sunset, fading, The eternal, unresponsive sky. Against all this, Youth, Flaming like the wild roses, Singing like the       0.00      0.00      0.00         1\n",
            "                                                                                                                                                             Evening, and all my ghosts come back to me like red banty hens to catalpa limbs and chicken-wired hutches, clucking, clucking, and falling, at last, into their head-under-wing sleep.I think about the field of grass I lay in once, between Omaha and Lincoln.It was summer, I think. The air smelled green, and wands       0.00      0.00      0.00         1\n",
            "                                                                                                                                                                                          Every day I am born like this— No chingues. Nothing happens for the first time. Not the neon sign that says vacant, not the men nor the jackals who resemble them. I take my bones inscribed by thosewho came before, and learnto court myself under a violenceof stars. I prefer to become       0.00      0.00      0.00         1\n",
            "                                                                                                                                                                                                                 Everything in the beginning is the same. Clouds let us look at the sun. Words let us watch a man about to be killed. The eye-hollows of his skull see home. When they stone him,he knows what a stone is—each word, a stone:The hole of his nose as dark as the door       0.00      0.00      0.00         1\n",
            "                                                                                                                                                                                                                            Except within poetic paleI have not found a nightingale, Nor hearkened in a dusky valeTo song and silence blending; No stock-dove have I ever heard, Nor listened to a cuckoo-bird,Nor seen a lark ascending. But I have felt a pulse-beat startBecause a       0.00      0.00      0.00         1\n",
            "                                                                                                                                                                                           Exiled afar from youth and happy love,            If Death should ravish my fond spirit henceI have no doubt but, like a homing dove,            It would return to its dear residence,And through a thousand stars find out the roadBack into the earthly flesh that was its loved abode.       0.00      0.00      0.00         1\n",
            "                                                                                                                                                                                 Fall, falling, fallen. That's the way the seasonChanges its tense in the long-haired maplesThat dot the road; the veiny hand-shaped leavesRedden on their branches (in a fiery competitionWith the final remaining cardinals) and thenBegin to sidle and float through the air, at lastSettling into       0.00      0.00      0.00         1\n",
            "                                                                                                                                                                                                          Faucets drip, and the night plunges to minus     fifteen degrees. Today you stared at a mapof Africa on a school wall and shook your head     at “Yugoslavia” written along the Adriaticcoast near the top—how many times     are lines drawn and redrawn, and to what end?       0.00      0.00      0.00         1\n",
            "                                                                                                                                                               February on another coast is April here. Astrology is months:you are February, or are youJune, and who isDecember? Who is booksread in spring, wingspanbetween midnightand mourning Another starry tree, coastalcounterpoint where magnolia isa brighter season peach and pear are grafted onto the same tree fear and       0.00      0.00      0.00         1\n",
            "                                                                                                                   First, above all, I live forever. And thereafter redecorate paradise in the majesty of the Roof Nightclub, DJ Lucifer, at predawn hours terrifies the floorboards to give way to Apollyon’s abyss, reflecting scarred light on the wall. The mirror alive with tremors. Herons bring news of consolation. I rebuke them for my brilliance and enrich uranium in my       0.00      0.00      0.00         1\n",
            "                                                                                                                             For Amy LowellWe walked through garden closes Languidly, with dragging Sunday feet, And passed down a long pleached alley, And could remember, as one remembers in a fairy tale, Ladies in brocade, and lovers, and musk. We surprised tall dahlias That shrugged and turned scarlet faces to the breeze.Further still we sauntered under old trees that       0.00      0.00      0.00         1\n",
            "                                                                                                                                                                                                        For her this rhyme is penned, whose luminous eyes, Brightly expressive as the twins of Loeda, Shall find her own sweet name, that, nestling lies Upon the page, enwrapped from every reader. Search narrowly the lines!—they hold a treasure Divine—a talisman—an amulet That       0.00      0.00      0.00         1\n",
            "                                                                                                                                                                                                                        For once I fought back, answering Oh yes, someday when a restless muse asserted This golden age needs treatment on the page. It was the strangest lesson— all that ink to make me think shadows were real, this silencewhen one true heart so manifestly was.       0.00      0.00      0.00         1\n",
            "                                                                                                                                                        Friendships—died June 24, 2009, oncebeloved but not consistently beloved. The mirror won the battle.  I am nowimprisoned in the mirror.  All my selvesspread out like a deck of cards. It’s true,the grieving speak a different language. I am separated from my friends bygauze.  I will drive myself to my ownhouse for the       0.00      0.00      0.00         1\n",
            "                                                                                                                                                From the island he saw the castle and from the castle he saw the island. Some people live this way—wife/ mistress/wife/mistress. But this story isn’t the one I’m telling. From the island he saw the castle and that made him distant from power and from the castle he saw the island and that made him distant from imagining what       0.00      0.00      0.00         1\n",
            "                                                                                                                                                                                                                                                                                                                                                                                       Glinting golden through the trees,Apples of Hesperides! Through the moon-pierced warp of night       0.00      0.00      0.00         1\n",
            "                                                                                                                                                                 Guilty Guilty Guilty for actions that took my sympathy Shackles around my wrist shackles at my feet Prom and high school graduation these eyes will never see My heart said, Oh well At least you will no longer have to endure your daily home abuse I grew into a woman unbalanced behind those wire fences Recall       0.00      0.00      0.00         1\n",
            "                                                                                                                                                                       He shudders—feeling on the shaven spotThe probing wind, that stabs him to a thoughtOf storm-drenched fields in a white foam of light,And roads of his hill-town that leap to sightLike threads of tortured silver. . .while the guards—Monstrous deft dolls that move as on a string,In wonted haste to finish       0.00      0.00      0.00         1\n",
            "                                                                                                                                                                                                                      Here we are, on top of the utopian arc. The water is shallow. An oil spill shimmers on the surface like a lens catches light and folds it in front of a mirror. If someone stands next to you, they are there, even when outside the picture. Which makes total       0.00      0.00      0.00         1\n",
            "                                                                                                                                                                 Here’s the End of the Worldmobile with its shiny bullhorn& platitudes among drawingstattooed across the beige hoodbig as a mammoth broken outof ice, bellyful of buttercups.Doomsday has come & gone,& now the sluggish van rollstoward the snowy East Riverat a quarter past midnight,& I wonder how it is to quita       0.00      0.00      0.00         1\n",
            "                                                                                                                                             His tongue shorn, father confusessnacks for snakes, kitchen for chicken.It is 1992. Weekends, we paw at cheapsilverware at yard sales. I am told by motherto keep our telephone number close,my beaded coin purse closer. I do this.The years are slow to pass, heavy-footed.Because the visits are frequent, we memorizeshame’s numbing       0.00      0.00      0.00         1\n",
            "                                                                                                                                                         How different things must have looked to my mother than they did to me. There I am in the black-and-white photo the summer the baby died. I’m seven, trying out my pogo stick with the two new girls next door. We’re laughing, and I’m shouting something to my brother, who wants his turn. And there’s Dad, standing near       0.00      0.00      0.00         1\n",
            "                                                                                                                                                                                                                                                                                                                                                                    How still it is! Sunshine itself here fallsIn quiet shafts of light through the high trees Which, arching, make a       0.00      0.00      0.00         1\n",
            "                                                                                                                                                                                                                                                                                                                                      I In the evening, love returns,Like a wand’rer ’cross the sea; In the evening, love returnsWith a violet for me; In the evening, life’s a song,       0.00      0.00      0.00         1\n",
            "                                                                                                                                                                       I am enlightened, a mansays after dinner, and he doesn’tmean what you thinkhe means, he means he’s a productof the Enlightenment, he’s talkingover his pain in the abyssinside his gum, it’s calledan abscess (we actually call itthat, he’s taken painkillers,he’s swallowed themwith the wine offered him).        0.00      0.00      0.00         1\n",
            "                                                                                                                                                          I am leading a quiet life in Mike’s Place every day watching the champs of the Dante Billiard Parlor and the French pinball addicts. I am leading a quiet life on lower East Broadway. I am an American. I was an American boy. I read the American Boy Magazine and became a boy scout in the suburbs. I thought I was Tom       0.00      0.00      0.00         1\n",
            "                                                                                                                                                                                                                                                                                                             I am wasted on thought-so’s and photo-opsso-so’s and S-O-S cries and the lit flareI burn I intuit I follow your light look at the way you go into the tall grass into it       0.00      0.00      0.00         1\n",
            "                                                                                                                                                                                                                                                                                                                                                                                              I ask but one thing of you, only one,That always you will be my dream of you;That never       0.00      0.00      0.00         1\n",
            "                                                                                                            I could have chosen to write this poem about the drastically entitled and out-of-his-mind-seeming white septuagenarian who, clearly upset, yowled I’M ABOUT TO BE UPSET, while turning to address a line-out-the-door post office like we were attending his performance art piece, who said he was going to BLOW UP THE FEDERAL GOVERNMENT because YOU wouldn’t give him       0.00      0.00      0.00         1\n",
            "                                                                                                                                                                                                          I crawled into bed and closed my eyes and not long after heard the small hooves of the horses, the tiny ones that gallop in our dreams, or are they the dreams of our children, galloping through the black ruins. Everything we do is against the crippling light. To hear       0.00      0.00      0.00         1\n",
            "                                                                                                                                                                     I crossed quite a few of your rivers, my gods, into this plain where thirst reigns I heard the cry of mourners the long cooing of the African wren at dusk the laughter of the children at dawn had long ceasednight comes fast in our landwhere indeed are the promised vistas the open fields, blue skies, the       0.00      0.00      0.00         1\n",
            "                                                                                                                                                                                                                                      I dig her up and plop her down in a wicker chair. She’s going to make apple sauce and I’m going to get drunk.She’s cutting worms out of the small green apples from the back yardand I’m opening up a bottle. It erects like a towerin the city       0.00      0.00      0.00         1\n",
            "                                                                                                                                                                                                                                                                  I have a rendezvous with DeathAt some disputed barricade,When Spring comes back with rustling shadeAnd apple-blossoms fill the air—I have a rendezvous with Death When Spring brings back blue days and fair.It may       0.00      0.00      0.00         1\n",
            "                                                                                                                        I have been a spendthrift Dropping from lazy fingers Quiet coloured hours, Fluttering away from me Like oak and beech leaves in October.I have lived keenly and wastefully, Like a bush or a sun insect— Lived sensually and thoughtfully, Loving the flesh and the beauty of this world— Green ivy about ruined towers, The out-pouring of the grey sea, And       0.00      0.00      0.00         1\n",
            "                                                                                                                                                                                                 I have taken scales from off The cheeks of the moon. I have made fins from bluejays’ wings, I have made eyes from damsons in the shadow. I have taken flushes from the peachlips in the sun. From all these I have made a fish of heaven for you, Set it swimming on a young October       0.00      0.00      0.00         1\n",
            "                                                                                                                                                                                                                                                                                                                                                                                                                    I hid my love when young till ICouldn’t bear the buzzing of a fly       0.00      0.00      0.00         1\n",
            "                                                                                                                                                                                                                                                                                                                                                                            I know a country laced with roads,They join the hills and they span the brooks, They weave like a shuttle       0.00      0.00      0.00         1\n",
            "                                                                                                                                                                      I know you knowhow to shame into obediencethe long chain tethering lawnmowerto fence. And in your gardenare no chrysanthemums, no hemof lace from the headscarfI loose for him at my choosing.Around my throat still twines a thin linefrom when, in another life, I wasguillotined. I know you knowhow to slap       0.00      0.00      0.00         1\n",
            "                                                                                                                                                                                                         I left you in the morning,And in the morning glow, You walked a way beside me To make me sad to go. Do you know me in the gloaming, Gaunt and dusty grey with roaming? Are you dumb because you know me not, Or dumb because you know?All for me? And not a question For the       0.00      0.00      0.00         1\n",
            "                                                                                                                                                                                I might travel his death a creaking and swaying beneath me stopthere are static expressions freed now and passing along the walls stopan object isn’t what is hidden but what smiles out from the hiding pleasewith only the slightest effort I might abandon every father stopor read them all cover       0.00      0.00      0.00         1\n",
            "                                                                                                                                                                                                 I told a million lies now it’s time to tell a single truth Sometimes I cry It’s hard dealing with my pride Not knowing whether to fight or flee Sometimes I cry Hard to maintain this image of a tough guy When deep down inside I am terrified If I ever told you I wasn’t scared I       0.00      0.00      0.00         1\n",
            "I wake tored sand Isleep herecoral brickhooghaan Iwalk thinrabbit brushtrails side-step earlyautumntarantulas pick desertwhite flowerson full days Iinhale fe-male rainI stop wheelsslow sheepbounce dropsheep shitacross highwayspotholedme I grassnothinghere I meta-grass I sleep-walk grassesopen eyes toblue corn skyto cook upstews chunkshalf-chewed thruI am thissalivatingmouth withouthands with-out arms bent downshamelessface to plate tosome origin(al)hunger awarethat       0.00      0.00      0.00         1\n",
            "                                                                                                                                                                       I was sympathetic to language, but often it shrugged me and kept other lovers. I crawled through the commas of Romanticism and rejected the rhythms, though sometimes at night I could feel a little sad. I could emerge nowinto a new kind of style, but the marketis already flooded and my people have lost       0.00      0.00      0.00         2\n",
            "                                                                                                                                                  I will begin with bracesstrung across a man’s teethas a downed kite mightstring itself across four lanesof a seven-lane highwayand bid a barefooted childto wade into evening trafficand slip. I will not focuson the wasp at the window,the cat’s white hair stretchingalong this orange peel,or even the train’s green breath,its       0.00      0.00      0.00         1\n",
            "                                                                                                                              I wind the sheet of elegywhile he's still alive, I can't help it, I follow his breath while he sleeps,greet each coming and going, with an Ave.                   (Because of how the quick become the dead.)But right now he's showering with a gospel choir, radiohalf on and half off that station. And today's heaven is half hell,half whole, half       0.00      0.00      0.00         1\n",
            "                                                                                                                                                                                                                                                                                                                                                               I wrote hard on paper at the bottom of a pool near a canyon where the stars slid onto their bellies like fish I wrote:       0.00      0.00      0.00         1\n",
            "                                                                                                                                                                   I'd lean close, my ear to her whisper and roar, her tongue scattered with stars. She'd belt her brassy voice over the waves' backbeat. No one sings better than her. Would she ever bite the inside of her cheek? Would she yell at the moon to quit tugging at her hem, or would she whistle, drop her blue dress       0.00      0.00      0.00         1\n",
            "                                                                                                                                                           If I should die,And you should live,And time should gurgle on,And morn should beam,And noon should burn,As it has usual done;If birds should build as early,And bees as bustling go,—One might depart at optionFrom enterprise below!’T is sweet to know that stocks will standWhen we with daisies lie,That commerce will       0.00      0.00      0.00         1\n",
            "                                                                                                                                                                                                        In March I drop an egg hoping a bird will fly out disbelievingscience. All the manuals tell me this is a logical contract.You commit yourself to a shell & you end up flying. Fine.Stone after stone, I’m defacing the river of being in love with you.True, I don’t care how       0.00      0.00      0.00         1\n",
            "                                                                                                                                                                                                                                                                 In Memory of Paul Violi (1944–2011) I did not realize that you were fading from sight I don’t believe I could have helped with the transitionYou most likely would have made a joke of it Did you hear about the two       0.00      0.00      0.00         1\n",
            "                                                                                                                               In the autumn I moved to New York,I recognized her face all over the subwaystations—pearls around her throat, she posesfor her immigration papers. In 1924, the onlyAmericans required to carry identity cardswere ethnically Chinese—the first photo IDs,red targets on the head of every man, woman,child, infant, movie star. Like pallbearers,they       0.00      0.00      0.00         1\n",
            "                                                                                                           In-between the sun and moon,I sit and watchand make some roomfor letting light and twilight mingle,shaping hopeand making single glances last eternity,a little more,extending love beyond the doors of welcoming,while wedding all the parted people,even sons to violent mothers,and searching all the others finding lightwhere twilight lingers,in-between the sun and       0.00      0.00      0.00         1\n",
            "                                                                                                                                                                                                               It began:1. Life is not fair2. How can I be happy while others suffer3. How can I not be happy while others suffer4. Others will suffer whether or not I am happy5. It is not the suffering of others that causes my happiness6. It is not the not-suffering of others       0.00      0.00      0.00         1\n",
            "                                                                                                                                                        It is 3:00 in the torpid New South, three days past Bastille Day & yes         this is the form you fashioned, isn't it? Exact & fast & haunted as the opening chords of \"Sweet Jane\"         (Mott the Hoople version), which pulses from the minivan as I drive from shrink to soccer camp, shirtpocket         staining my       0.00      0.00      0.00         1\n",
            "                                                                                                                                                            It to take; or was it to be unpacked?Packed it might signify death. The windDeath the wind calculating your lesson—hast thou learned a thing? The name ofa thing. I am still defiant, of the presumption,as articulated. I passed himin his velveteen jacket worn elbows. Theenculturated elbows of Death need patches.Do       0.00      0.00      0.00         1\n",
            "                                                                                                                                                                                                               It was time that was the tenderness—eden, as it isin need of and tolerating no history—thus no tracks of conventionalism in our shared patched boot and oversoul pasts—just new snow, crossed through like uncommon winter birds do—making paths invisible but to few        0.00      0.00      0.00         1\n",
            "                                                                                                                                                                                                                          It's the start of baseball season, and I am thinking againas I do every yearin early April nowthat I live in Californiawhere afternoon is a bluespan to languidly crossof those long onesyou used to sort of sleepthrough getting drunkon many beers, lying       0.00      0.00      0.00         1\n",
            "                                                                                                                                                              It’s not the wind I hear driving south through the Catskills—it’s just bad news from the radio and then a hailstorm morphs into sunlight —look up and there’s— an archipelago of starlings trailing some clouds— But how does the wind come through you primordial hollow—unflattened double reed— so even now when bad       0.00      0.00      0.00         1\n",
            "                                                                                                                                                                                 Let me be merry now, ’t is time;     The season is at handFor Christmas rhyme and Christmas chime,     Close up, and form the band.The winter fires still burn as bright,     The lamp-light is as clear,And since the dead are out of sight,     What hinders Christmas cheer?Why think or speak of       0.00      0.00      0.00         1\n",
            "                                                                                                                                                      Let them come for what’s left: a chorus of bone, river and soot. Worthy enough. Holy enough. Like all the others, singular—or not. Wanting only for your name to bluemy lips and call it miracle. Our love double-knotted, saddle-stitched held the world together. Until it didn’t— all the words you placed in me flushed and       0.00      0.00      0.00         1\n",
            "                                                                                                                          Like animals moving dailythrough the same open field,it should be easier to distinguishlight from dark, fabricationsfrom memory, rain on a sliverof grass from dew appearingovernight. In these momentsof desperation, a sentenceserves as a halo, the moonhidden so the stars eclipseour daily becoming. You thinkit should be easier to defineone’s path,       0.00      0.00      0.00         1\n",
            "                                                                                                                                               Like burnt-out torches by a sick man’s bed    Gaunt cypress-trees stand round the sun-bleached stone;    Here doth the little night-owl make her throne,And the slight lizard show his jewelled head.And, where the chaliced poppies flame to red,    In the still chamber of yon pyramid    Surely some Old-World Sphinx lurks darkly       0.00      0.00      0.00         1\n",
            "                                                                                                                                                                                 Lovers of beauty laugh at this grey town,     Where dust lies thick on ragged curb-side trees,And compass-needle streets lead up and down     And lose themselves in empty prairie seas.Here is no winding scented lane, no hill     Crowned with a steepled church, no garden wallOf old grey stone       0.00      0.00      0.00         1\n",
            "                                                                                                                                                                                                                                                                                            Lovers, forget your love,And list to the love of these, She a window flower,And he a winter breeze.When the frosty window veilWas melted down at noon, And the cagèd yellow birdHung over       0.00      0.00      0.00         1\n",
            "                                                                                                                                                                                                                                                                                                                                                                                                                                                Much have I spoken of the faded leaf;       0.00      0.00      0.00         1\n",
            "                                                                                                                                                                                                                                                                                                My mother lives under the ground so I am drawn to that countrystill air coolswater trickles black roots tower down in her houseup here a skynever whole buoys aroundlight of the moon       0.00      0.00      0.00         1\n",
            "                                                                                                                                                                                    New moon in midheaven, in Libra. The hermit wields two swords. Temptation overcomes the star. The chariot travails with weakend strength. Death rises to meet every face you meet. Ten wands whittled from prickly ash. Fall in love with a teacher. Build a home on the moon. Grow twinberry and       0.00      0.00      0.00         1\n",
            "                                                                                                                            No gate, no main entrance, no ticket, no ranger. Not farFrom where Frost once raised chickens and ill-fated children, nearWhere the Old Man’s glacier-hewn face though bolstered toIts godlike roost by rods and turnbuckles slidFrom our fledgling millennium into oblivion,You can cross the Pemigewasset on a bridgeThen, compass-north but southbound       0.00      0.00      0.00         1\n",
            "                                                                                                                                                                                                                      No matter how he wrested himself silent in night, six days post-stroke he woke fluent in former languages, backtracking this time here. Mercy nurses, attendants, remedied in their own. Once he registered, all he cawed out was if it’s too far gone, we need       0.00      0.00      0.00         1\n",
            "                                                                                                                                                                                                                                                                                                           No tears No tips No meters No nips [wellmayb] No Lyft No Uber No 1-8hundo But he do wanna kno How yubeen? Where’d yu go? & yu kno yu best talkharder 2 pin his desire Even       0.00      0.00      0.00         1\n",
            "                                                                                                                           November’s days are thirty:November’s earth is dirty,Those thirty days, from first to last;And the prettiest thing on ground are the pathsWith morning and evening hobnails dinted,With foot and wing-tip overprintedOr separately charactered,Of little beast and little bird.The fields are mashed by sheep, the roadsMake the worst going, the best the       0.00      0.00      0.00         1\n",
            "                                                                                                                                                             O Distinct Lady of my unkempt adoration if i have made a fragile certainsong under the window of your soul it is not like any songs (the singers the others they have been faithfulto many things and which die i have been sometimes true to Nothing and which livesthey were fond of the handsome moon never spoke ill       0.00      0.00      0.00         0\n",
            "                                                                                                                                                                                                                O Winter! frozen pulse and heart of fire,What loss is theirs who from thy kingdom turnDismayed, and think thy snow a sculptured urnOf death! Far sooner in midsummer tireThe streams than under ice. June could not hireHer roses to forego the strength they learnIn       0.00      0.00      0.00         1\n",
            "                                                                                                                                            O breathing drum, O cask of darkwaters, O decaying star, mybarking heart, my breaking brother,what will seep into the spaceyour body leaves? O hugeeighteen-muscled ears, oscillatingossicles and cochlea, your busy canalsnow hollow caves of quiet. I have saidyour fur is black, but you aresilvered, rimed with frost.You are the new       0.00      0.00      0.00         1\n",
            "                                                                                                                                              Oh strong-ridged and deeply hollowednose of mine! what will you not be smelling?What tactless asses we are, you and I, boney nose,always indiscriminate, always unashamed,and now it is the souring flowers of the bedraggledpoplars: a festering pulp on the wet earthbeneath them. With what deep thirstwe quicken our desiresto that       0.00      0.00      0.00         1\n",
            "                                                                                                                                                                                            Oh, give us pleasure in the flowers to-day; And give us not to think so far away As the uncertain harvest; keep us here All simply in the springing of the year.Oh, give us pleasure in the orchard white, Like nothing else by day, like ghosts by night; And make us happy in the happy       0.00      0.00      0.00         1\n",
            "                                                                                                                                                                                    Ojhas are [medicine men, “the ones next to God,” religious ministers or priests who deal with the daily struggles of the village people]; this dynamic allows the village ojha to control the circulation of rumors, and he is the village member who has the power to trap daayans (witches). In       0.00      0.00      0.00         1\n",
            "                                                                                                                                                                      On another nightin a hotelin a roomin a cityflanked by allthat is unfamiliarI am able to movemy finger alonga glass screenonce acrossonce vertical& in secondssee your mothersmiling in a roomthat is our ownthat is now sofar away butalso not so faraway at all& she can placethe small screennear her belly&       0.00      0.00      0.00         1\n",
            "                                                                                                                                                                                                                                                                                             On summer afternoons I sit Quiescent by you in the park And idly watch the sunbeams gild And tint the ash-trees' bark.Or else I watch the squirrels frisk And chaffer in the grassy lane       0.00      0.00      0.00         0\n",
            "                                                                                                                                                     On the other side of the river there is a flame a flame burning Mayburning Augustwhen the pagoda tree blooms, the professor with lentigo bows to her when orange blossoms fall, an heir of graceful demeanor waves to her and smilesyet on the other side of the river she remains, still burning like the underwater glistening       0.00      0.00      0.00         1\n",
            "                                                                                                                                                                               Onliest man who lay hands on me. Pointer finger pad between my eyes. Pinky knuckle cool on cheekbone. God of precision, blade at my throat,for a half hour, you love me this way. Together we discover what I got from my folks—widows peak, dandruff, hair growing fast in concentric O’s. Claude, so       0.00      0.00      0.00         1\n",
            "                                                                                                                                                                                                              Out walking in the frozen swamp one grey day I paused and said, \"I will turn back from here. No, I will go on farther—and we shall see.\" The hard snow held me, save where now and then One foot went down. The view was all in lines Straight up and down of tall slim       0.00      0.00      0.00         1\n",
            "                                                                                                                                                                                                        PIERCE & CUDDIE Cuddie, for shame hold up thy heavye head,And let us cast with what delight to chace,And weary thys long lingring Phoebus race.Whilome thou wont the shepheards laddes to leade,In rymes, in ridles, and in bydding base:Now they in thee, and thou in sleepe       0.00      0.00      0.00         1\n",
            "                                                                                                                                                                                                                             Passing stranger! you do not know how longingly I look upon you,You must be he I was seeking, or she I was seeking, (it comes to me as of a dream,)I have somewhere surely lived a life of joy with you,All is recall’d as we flit by each other, fluid,       0.00      0.00      0.00         1\n",
            "                                                                                                                                                                                                Pretty girl. The weather has knocked her down again and given her to the lake to wear as a skin.Why am I always being the weather? There were days in the winter when her smile was so lovely I felt the breathing of my own goodness, though it remained fetal and separate. I was a       0.00      0.00      0.00         1\n",
            "                                                                                                                                                                                                                        Property is death: they had a body crammed in a mailbox and it was just a brown suit with bones sticking out—and fathers lost in blowing snow—and mothers drift in blowing leaves, and all the lies in any town—work was my salvation he said work was always       0.00      0.00      0.00         1\n",
            "                                                                                                                                                        STARS, SCATTERSTILL. Constellations of people and quiet. Those nights when nothing catches, nothing also is artless. I walked for hours in those forests, my legs a canvas of scratches,trading on the old hopes—we were meant to be lost. But being lostmeans not knowing what it means. Inside the meadow is the grass,rich       0.00      0.00      0.00         1\n",
            "                                                                                                                                        Science in its tedium revealsthat each spirit we spiritganks a solid half hour fromour life spans.Or so says my doctor, a watery,Jesus-eyed man, and hard to sufferwith his well-intended scrips for yogaand neti pots, notably stingy with the betterdrugs, in situ here amongst the disinfectedtoys dreadful in their plastic baskets.Above       0.00      0.00      0.00         1\n",
            "                                                                                                                                                                                                               Shame on you for dating a museum:Everything is dead there and nothing is alive.Not everyone who lives to be old embracesthe publicity of it all. I mean, you get up and folkswant to know, How did you get here? What makes yougo? What is the secret? And there is no       0.00      0.00      0.00         1\n",
            "                                                                                                                                                                                                           She breathed a chill that slowed the sapinside the phloem, stood perfectly still inside the dark, then walked to a fieldwhere the distance crooned in a smallblue voice how close it is, how the gravityof sky pulls you up like steam from the arch. She sang along until       0.00      0.00      0.00         1\n",
            "                                                                                                                                                                                             She’ll hold her hand out a window on a June day, snatch a chubby fistful of air, clutch it all night beneath her sheets. Out of a dream of flight she’ll emerge, vast as a yard of clover, and fall like a comforter over the neighborhood. Then she’ll shimmerlike a maple in the wind.       0.00      0.00      0.00         1\n",
            "                                                                                                                                                                                     Shiitake, velvet foot, hen of the woods, woodear, cloud ear, slippery jack, brown wreathsof Polish borowik dried and hangingin the stalls of a Krakow market—all thesewere years away from the room where I layonce, studying the contours of your sexas if it were some subterranean speciesI’d       0.00      0.00      0.00         1\n",
            "                                                                                                                                                               Someone else used to do this before. Someone responsible, someone who loved me enough to protect me from my own filth piling up. But I’m over 40 now & live alone, & if I don’t remember it's Thursday & rise with the cardinals & bluejays calling up the sun, I’m stuck with what’s left rotting for another week. I       0.00      0.00      0.00         1\n",
            "                                                                                                                                                      Sometimes starting with a titleInfuses the workWith an insurmountable dreadHow is one to fulfill such a promiseTo make good on the pactThat art in the end allowsFor a kind of connectivityLife otherwise lacksOr lacks in those moreContemplative waysSince mixing the ingredientsTo say a batch of cookiesIs in its own right       0.00      0.00      0.00         1\n",
            "                                                 Staring at the stars, I imagine you vanished and dispersed in that unreachable clarity of light. They glisten, sharp and cold, vast distances apart yet coming to their marks the same time every night of their season.The seasons slowly move, carrying their forms— I recognize so few: Orion with his belt dominating winter, a wobbly W, the dipper’s angled box and handle, each bright dot individually jeweled there.Nothing       0.00      0.00      0.00         1\n",
            "                                                                                                                                                     Sunday afternoon on a city beach. No sand, slabs of manufactured stone. I watch two blondes, maybe sisters, Inflate a raft. They use a bicycle pump. One tries to assemble two paddles, Gives up, puts them in her bag. The one on the pump removes her top. She has exerted herself into better posture. Her breasts are larger       0.00      0.00      0.00         1\n",
            "                                                                                                                                                Take it easy, Sadness. Settle down.You asked for evening. Now, it’s come. It’s here.A choking fog has blanketed the town,infecting some with calm, the rest with fear.While the squalid throng of mortals feels the stingof heartless pleasure swinging its barbed knoutand finds remorse in slavish partying,take my hand, Sorrow. I       0.00      0.00      0.00         1\n",
            "                                                                                      That Mississippi chicken shack. That initial-scarred tabletop, that tiny little dance floor to the left of the band. That kiosk at the mall selling caramels and kitsch. That tollbooth with its white-plastic-gloved worker handing you your change. That phone booth with the receiver ripped out. That dressing room in the fetish boutique, those curtains and mirrors. That funhouse, that       0.00      0.00      0.00         1\n",
            "                                                                                                                                                      The Wind is sewing with needles of rain. With shining needles of rain It stitches into the thin Cloth of earth. In, In, in, in. Oh, the wind has often sewed with me. One, two, three.Spring must have fine things To wear like other springs. Of silken green the grass must be Embroidered. One and two and three. Then every       0.00      0.00      0.00         1\n",
            "                                                                                                                                                                                                    The bumper sticker says Live In The Moment! on a Jeep that cuts me off. I’m working to forget it, to let go of everything but the wheel in my hands, as a road connects two cities without forcing them to touch. When I drive by something, does it sway toward me or away? Does       0.00      0.00      0.00         1\n",
            "                                                                                                                                                                        The dark wood after the dark wood: the coldafter cold in April's false November. In that second worser place: more gone, less there, but in that lurid present present, cast and held, rooted, kept, like some old false-berried yew.Just against; the door leading to prefermentshut; no longer believing in       0.00      0.00      0.00         1\n",
            "                                                                                                                                                                                                                            The deer is still alive in the roadside grass. In an hour, we'll cut her open,her left hip broken, the bonein her dark body; now the white Camaroshocked in the night and the boywet-faced in the back seat,his parents at a lossby the hood, too youngto       0.00      0.00      0.00         1\n",
            "                                                                                                                                                                                                           The door was opened and I saw you thereAnd for the first time heard you speak my name.Then like the sun your sweetness overcameMy shy and shadowy mood; I was awareThat joy was hidden in your happy hair,And that for you love held no hint of shame;My eyes caught light       0.00      0.00      0.00         1\n",
            "                                                                                                                                                                                                   The egg is skinned in water, born beforethe body. Salt as a nut, bare with blood,the shallows pink with ache: be arable,bear me towards the water, let me haveyou. I freeze you: cell-throb & wake meinside the afterlife. On that day, death didcome as a white ram. Egg, we slit       0.00      0.00      0.00         1\n",
            "                                                                                                                                                                                                  The entire world wantsTo pretend to be a foreignerIn a big box store & wanderThe aisles shouting, endlessly—But I am pretty sure that todayIs my day to not just be a guyBut to be the guy. A baby grows In each drawer of the million-Drawered cherrywood cabinetThat is my head &       0.00      0.00      0.00         1\n",
            "                                                                                                                                                                        The fern gathers where the water seldom goes unless the storms swell this world of wise choices, the loud trickle of clear tongues of the stream licking the edges of rock, while up ahead a curve hides tomorrow from our crystal ball, the thing we are afraid to admit we have, the guarantee we hide from       0.00      0.00      0.00         1\n",
            "                                                                                                                                                                                                                                                                            The hastily assembled angel saw One thing was like another thing and that Thing like another everything depend- ed on how high it was the place you sawThings from and he had seen the Earth from where A       0.00      0.00      0.00         1\n",
            "                                                                                                                                                                      The heart on the breast of my mother Saint, sleeping on the wing of any number of blackbirds their feet sticking out the end of red pies.Danger is my jester, is the only thing keeping me here.He holds nothing to himself. In public he goes public.There is a man who takes blue silt to his brow and kisses       0.00      0.00      0.00         1\n",
            "                                                                                                                                                                                               The house had gone to bring again To the midnight sky a sunset glow. Now the chimney was all of the house that stood, Like a pistil after the petals go. The barn opposed across the way, That would have joined the house in flame Had it been the will of the wind, was left To bear       0.00      0.00      0.00         1\n",
            "                                                                                                                                                 The jacaranda blooms beside the drunk stick tree.Come. I see you swelling with nectar. Hear you,Venteveos, shriek till night. Come. See me.The jacaranda blooms beside the drunk stick tree.The violent violet petals pollen weep.A bichofeo sings of you with open throat and beak.A jacaranda blooms beside the drunk stick tree.I       0.00      0.00      0.00         1\n",
            "                                                                                                                                                                                                   The lawyers, Bob, know too much.They are chums of the books of the old John Marshall.They know it all, what a dead hand wrote,A stiff dead hand and its knuckles crumbling,The bones of the fingers a thin white ash.       The lawyers know       a dead man’s thoughts too well.       0.00      0.00      0.00         1\n",
            "                                                                                                                                                                                     The magazine on my lap talksabout milk. Tells me that in America,every farmer lost money onevery cow, every day of every monthof the year. Imagine that? To wakeup and know you’re digging yourselfdeeper into a hole you can’t seeout of, even as your hands are wetwith what feeds you. That’s       0.00      0.00      0.00         1\n",
            "                                                                                                                                                   The maples sweat now, out of season.Buds pop eyes in wintry bushesas the birds arrive, not having checkedthe calendars or clocks. They scramblein the frost for seeds, while undergrounda sobbing starts in roots and tubers.Ice cracks easily along the bank.It slides in gullies where a bear, still groggy,steps through coiled       0.00      0.00      0.00         1\n",
            "                                                                                                                                            The moon builds its towerSisyphean projectLike a velvet landscapea velvet Elvis above the boothI want to arrive this waylike resurrectionin front of you but notCasual on a curbtrapped in a beamalmost crossing in frontof every moving vehicleA long pauseA breathSkin feathered over bonesilvering and brightWe want it to happen this       0.00      0.00      0.00         1\n",
            "                                                                                                                                                                                                                          The morning comes, and thickening clouds prevail, Hanging like curtains all the horizon round, Or overhead in heavy stillness sail; So still is day, it seems like night profound; Scarce by the city’s din the air is stirred, And dull and deadened comes       0.00      0.00      0.00         1\n",
            "                                                                                                 The planet pulls our bodies through the year. Delivers us, headlong,into the tears in currents. The ebbs and flows of blood in chambers,bombastic and flooded with unremembered names. Neighbors bourne feet firstthrough their door arches. Down the corridors, lonesomeand lost. Their voices suture the silence behind them andthe little song pulsing its staccatocannot explain       0.00      0.00      0.00         1\n",
            "                                                                                                                                                                                            The river is a fish and my tongue  is white paper you draw your hand on and the sounds  keys make on the waist  of a janitor in an empty building on the night of your birth when the moon was a live bird pinned  to a girl’s chest and the color  of a beat-up door  that hides a paint       0.00      0.00      0.00         1\n",
            "                                                                                                                                                                                                           The sea has white points that I don't know and tempo, so good it wags good in my embrace, I corrupt sweetly— and slight it laments the aches at the knee touched to me. Without spite I remind you of an immense day of joy but you forget true knowledge. If the night is       0.00      0.00      0.00         2\n",
            "                                                                                                                                                                                                     The sleepy shark rolls from bed at the sound of the bell: the fisherman's foot ringing in the water. On the pier a young girl purchases a dried apricot from a vendor and rolls its wrinkled skin over her tongue before biting down. Behind tightly drawn curtains, the boy who       0.00      0.00      0.00         1\n",
            "                                                                                                                                                                                                   The snow,ah yes, ah yes indeed,is white and beautiful, white and beautiful,verily beautiful –from my window.The sea,ah yes, ah yes indeed,is green and alluring, green and alluring,verily alluring –from the shore.Love, ah yes, ah yes, ah yes indeed,verily yes, ah yes indeed!       0.00      0.00      0.00         1\n",
            "                                                                                                                                                     The three stood listening to a fresh accessOf wind that caught against the house a moment,Gulped snow, and then blew free again—the ColesDressed, but dishevelled from some hours of sleep,Meserve belittled in the great skin coat he wore.Meserve was first to speak. He pointed backwardOver his shoulder with his pipe-stem,       0.00      0.00      0.00         1\n",
            "                                                                                                                                                                                         There is no fixed place and by that I meantake a look at things that are. Split by theturn of year, its newness and all it brings,which of its possibilities can we trust?Elsa is involved in a clandestinelove affair which, let’s be honest, should beall love affairs until they’re over.       0.00      0.00      0.00         1\n",
            "                                                                                                                                                                         There were always such beautiful shadows in your work,Though many now dodge their taxes with your art. RarelyAs it seems, life involves death with every decision, which isWhy I miss the non-Euclidean idiom we used to argue overEverything in the dictionary of what not to do. SomewhereIn a mix between       0.00      0.00      0.00         1\n",
            "                                                                                                                                                                              There’s a father sleeping it off in every master bedroom      of the cul-de-sac the morning after, so Saturdaymorning is a snooze. The moon is still out, eyeballing     the quiet street like Sun Ra did his Arkestra. Somebodyhas to be a father figure for all of those musical notes.     No school       0.00      0.00      0.00         1\n",
            "                                                                                                                                            They all wore little hats Vermont that  I Can see, the river its coronet Of yellow beetles—crawling, Flying—the flowers wearing The river for a hat. I can see thatWhen I stand alone Upon this acre as now Sober and living, the same, the same.They wore: Hats. They are not dead, John and Johnny and John, Which is a fine name for a       0.00      0.00      0.00         1\n",
            "                                                                                                                                            They kept showing up, for days,dead on the windowsill,and for days I did nothing about the ladybugsexcept to ask if their entering the houseunnoticed and dying before I saw themwas symbolic.Thinking so was easy.They symbolized birth and death,change and rebirth.It was also possible the tiny beetlesembodied an inborn needto show       0.00      0.00      0.00         1\n",
            "                                                                                                                                  They sing their dearest songs— He, she, all of them—yea, Treble and tenor and bass. And one to play; With the candles mooning each face... Ah, no; the years O! How the sick leaves reel down in throngs!They clear the creeping moss— Elders and juniors-—aye, Making the pathways neat And the garden gay; And they build a shady seat... Ah, no;       0.00      0.00      0.00         1\n",
            "                                                                                                                                                                                       Thirteen on ice, skating, I died. Boys dragged soft fields with the lifts in their shoes. We'd gone in search of the other, the fat girl. Hurried to drown her past Hurricane Ridge. White snowed on white, ice over feathers. Cutters knit sweaters, buried alive. Our parents wore dog suits       0.00      0.00      0.00         1\n",
            "                                                                                                                                                   This golden head has wit in it. I live Again, and a far higher life, near her. Some women like a young philosopher; Perchance because he is diminutive. For woman’s manly god must not exceed Proportions of the natural nursing size. Great poets and great sages draw no prize With women: but the little lap-dog breed, Who can       0.00      0.00      0.00         1\n",
            "                                                                                                                                                                                                            This is not how it begins but how you understand it. I walk many kilometers and find myself to be the same— the same moon hovering over the same, bleached sky, and when the officer calls me it is a name I do not recognize, a self I do not recognize. We are asked to       0.00      0.00      0.00         1\n",
            "                                                                                                                                                                                This is what our dying looks like. You believe in the sun. I believe I can’t love you. Always be closing, Said our favorite professor before He let the gun go off in his mouth. I turned 29 the way any man turns In his sleep, unaware of the earth Moving beneath him, its plates in Their places,       0.00      0.00      0.00         1\n",
            "                                                                                                                                                                                       This massive apartment: a whole room left Empty to air, where we used to sleep. So many steps on the waxed wood, like off turns On the dial of a lock whose combination one’s lost— All decaying about me like empire, The moldings moldering while I sit frozen As a swan on the surface of a       0.00      0.00      0.00         1\n",
            "                                                                                                                                                                                                    Three sang of love together: one with lips   Crimson, with cheeks and bosom in a glow,Flushed to the yellow hair and finger tips;   And one there sang who soft and smooth as snow   Bloomed like a tinted hyacinth at a show;And one was blue with famine after love,   Who like       0.00      0.00      0.00         1\n",
            "                                                                                                                                                                          To Certain Poets About to DieTake your fill of intimate remorse, perfumed sorrow,Over the dead child of a millionaire,And the pity of Death refusing any check on the bankWhich the millionaire might order his secretary to scratch offAnd get cashed.  Very well,You for your grief and I for mine.Let me       0.00      0.00      0.00         1\n",
            "                                                                                                                                                                      Too green the springing April grass,Too blue the silver-speckled sky,For me to linger here, alas,While happy winds go laughing by,Wasting the golden hours indoors,Washing windows and scrubbing floors. Too wonderful the April night,Too faintly sweet the first May flowers,The stars too gloriously bright,       0.00      0.00      0.00         1\n",
            "                                                                                                                                                      Too soon, perhaps, for fruit. And the broad branches,ice-sheathed early, may bear none. But still the womanwaits, with her ladder and sack, for something to break.A gold, a lengthening of light. For the greens to burstinto something not unlike flame: the pale fruitblushing over weeks through the furred cleft creases:a       0.00      0.00      0.00         1\n",
            "                                                                                                                                                      Translated from French by Marilyn Hacker Pour Ali la PointeHere where each day calls out to our sufferingHere where each step chains our desire for hopeHere where everything cries out misfortune violence famineHere where blood is confirmed silently and grief gains groundHe died. Died buried under a pile of rubbleWhile       0.00      0.00      0.00         1\n",
            "                                                                                                                                                                                                                                                                                                                                                                          Translated from French by Marilyn HackerFor Eliane, Mireille, and ReginaWe dreamed of a phlegmatic life for       0.00      0.00      0.00         1\n",
            "                                                                                                                                         Translated from Portuguese by Dan HanrahanI died how many times in the longest night?In the motionless night, heavy and long,I died how many times on the night of calunga?The night does not end and here I amdying again nameless and againdying with each hole openedin the musculature of the person I once was.I died how many times in       0.00      0.00      0.00         1\n",
            "                                                                                                                                                                                 Translated from Portuguese by John KeeneThe first time I kissed It was my girlfriends who kissed They invented a flavor, a style, a smell My lips weren't there.The first time I kissed The prince was chosen by these dreaming girls He was a jerk to me A toad, a dragon that spat its fire on meI       0.00      0.00      0.00         1\n",
            "                                                                                                                                Translated from Portuguese by John KeeneTime is an essence I carry within me Time and its strands They've been coiled inside me since my navel was knotted It has as its complementary counterpart The space between time and its options Time, lord of the hours reigns sovereign Subtly, on a silver cord People don't kill time He is the killer.        0.00      0.00      0.00         1\n",
            "                                                                                                                                                               True Love is but a humble, low-born thing,And hath its food served up in earthen ware;It is a thing to walk with, hand in hand,Through the every-dayness of this work-day world,Baring its tender feet to every roughness,Yet letting not one heart-beat go astrayFrom Beauty’s law of plainness and content;A simple,       0.00      0.00      0.00         1\n",
            "                                                                                                                                                                                                                                                                                                                                     Under Mirabeau Bridge the river slips awayAnd loversMust I be reminded Joy came always after pain The night is a clock chimingThe days go by not       0.00      0.00      0.00         1\n",
            "                                                                                                                                                                              Under the green domes of maples light spangles the abundant slabs of moss. Grass won’t grow here, but something else has taken over. When I went into the drugstore yesterday the clerk who moved away had been replacedby a girl who looked so much like her I thought for a moment she’d come back to       0.00      0.00      0.00         1\n",
            "                                                                                                                                                                                                                                  Vigil strange I kept on the field one night;When you my son and my comrade dropt at my side that day,One look I but gave which your dear eyes return'd with a look I shall never forget,One touch of your hand to mine O boy, reach'd up as you lay       0.00      0.00      0.00         1\n",
            "                                                                                                                                                                                                                                             We heard the creaking clutch of the crankas they drew it up by cable and wheeland hung it sleek as a hull from the roof. Grennan jammed open the great jawsand we saw how the upper jaw hung fromthe skull. We flinched at the stench of       0.00      0.00      0.00         1\n",
            "                                                                                                                                                     We lay in shade diaphanous And spoke the light that burns in usAs in the glooming’s net I caught her, She shimmered like reflected water!Romantic and emphatic moods Are not for her whom life eludes...Its vulgar tinsel round her fold? She'd rather shudder with the cold,Attend just this elusive hour, A shadow in a shadow       0.00      0.00      0.00         1\n",
            "                                                                                                                                                                                                             We should not have produced all this life.Let’s say I amin a state of heightened attentiveness.Is this my gift? Do I take your head in my handsand swivel it, or cast marbles around our feet, make a line I bring you behind?Now: see the man on wire, taste the papery       0.00      0.00      0.00         1\n",
            "                                                                                                                                                              We walk through clouds wrapped in ancient symbolsWe descend the hill wearing water Maybe we are deadand don’t know itMaybe we are violet flowers and those we long for love onlyour unmade heartsOn attend, on attendWait for Duras and Eminescuto tell us in French then Romanianlight has wounds slow down— memory is       0.00      0.00      0.00         2\n",
            "                                                                                                                                                                               Well, I guess no one can have everything. I must learn to celebrate when I fail. Inner growth and fortitude follow the sting, right? Won't I rise with holy wind in my sails? Yet they always seem to get what I want, door after door flung open. Why are the keepers of doors, who haunt the hopeful       0.00      0.00      0.00         1\n",
            "                                                                                                                                                             What I meant is that when the child shook the branch,the beetles, quiet, somnolent, darkly, fell and again felllike plums. Once woken, they bzzzed towardsthe street lamps, loving each light well, thwackingagainst them until they landed face down or faceup, trying to find their feet, reminding me of Eve’s faceas       0.00      0.00      0.00         1\n",
            "                                                                                                                                                                                                      What can I say to cheer you up? This afternoon the sky is like five portholes between the clouds. The unidentifiable weeds are tall and still unidentifiable and I miss the cows in the field, where have they gone? Sometimes one would wander then stand in the middle of the       0.00      0.00      0.00         1\n",
            "                                                                                                                                                                                  What is a wound but a flower dying on its descent to the earth, bag of scent filled with war, forest, torches, some trouble that befell now over and done. A wound is a fire sinking into itself. The tinder serves only so long, the log holds on and still it gives up, collapses into its bed of       0.00      0.00      0.00         1\n",
            "                                                                                                                                                                                        What is it you feel I asked Kurt when you listen toRavel’s String Quartet in F-major, his face was so lit upand I wondered, “the music is unlike the world I liveor think in, it’s from somewhere else, unfamiliar and unknown,not because it is relevant to the familiar and comfortable,but       0.00      0.00      0.00         1\n",
            "                                                                                                                                                                     What still grows in winter? Fingernails of witches and femmes, green moss on river rocks, lit with secrets... I let myself go near the river but not the railroad: this is my bargain. Water boils in a kettle in the woods and I can hear the train grow louder but I also can’t, you know? Then I’m shaving in       0.00      0.00      0.00         1\n",
            "                                                                                                                                                                                                      What words can you wrap arounda dying brother, still dying, even now.A man who has not eaten for a monthsips at water and says, even thirst is a gift.He asks what other gifts God has given him.I’m your gift, his daughter says from a corner.And he smiles and rasps—you can       0.00      0.00      0.00         1\n",
            "                                                                                                                                  When April bends above me And finds me fast asleep, Dust need not keep the secret A live heart died to keep.When April tells the thrushes, The meadow-larks will know, And pipe the three words lightly To all the winds that blow.Above his roof the swallows, In notes like far-blown rain, Will tell the little sparrow Beside his window-pane.O       0.00      0.00      0.00         1\n",
            "                                                                                                                                                                                                                                                              When I go up through the mowing field,The headless aftermath, Smooth-laid like thatch with the heavy dew,Half closes the garden path.And when I come to the garden ground,The whir of sober birds Up from the tangle of       0.00      0.00      0.00         1\n",
            "                                                                                                                                                                                                When I smell the dirt on the oiled leather I fear that I am leaving everyone to become A field of wind and sunlight. I climb a stone wall to look at the ocean With a bird call stuck in my mind. The frog, my spirit animal, cocks Its bulging eyeball at me and its throat Enlarges       0.00      0.00      0.00         1\n",
            "                                                                                                                                                                                                 When I was young, I hid under the porch with a star in my throat. When I got a little older, my mother opened the cupboard to let the fire out. I should’ve known the cliffs meant a coming blankness. We should’ve noticed the competition growing deadly between the masts and the       0.00      0.00      0.00         1\n",
            "                                                                                                                                                          When glaciers trapped a third of Earth’s water and drained the Bering Strait, humans journeyed to this land where wind swept the steppes of snow, exposing grass that would be plucked by mammoth trunks and ground by washboard teeth. Up to thirteen feet, their tusks curved helically and would intertwine if they went       0.00      0.00      0.00         1\n",
            "                                                                                                                                                                                                   When he procured her, she purveyed him. When he rationed her out,she made him provisional. On beingprovisional, he made her his trough. On being a trough, she made him her silo.At once a silo, he made her his cut. On being a cut,she made him her utensil. On being a utensil,       0.00      0.00      0.00         1\n",
            "                                                                                                                                                                   When she stretched her armsthe mist lifted and the red buds opened on the maple trees.She, in the garden in pajamas,danced with her friend Isabel,as the fledgling robins wobbled and flew from branch to ground.Cells multiplied in her body.Her fingers spread, the warm cool air,as the mist disappeared like a       0.00      0.00      0.00         1\n",
            "                                                                                                                                                                                When the fields catch flower   And the underwood is green,And from bower unto bower   The songs of the birds begin,   I sing with sighing between.When I laugh and sing,   I am heavy at heart for my sin;I am sad in the spring   For my love that I shall not win,For a foolish thing.This profit I       0.00      0.00      0.00         1\n",
            "                                                                                                                                                                                                          When was the last time you mailed a postcard?My mother kept the ones I sent her. My sister mailed them backto me after my mother died. I had forgotten I had writtenso many small notes to my mother. The price of stampskept changing. I was always mentioning on the back       0.00      0.00      0.00         1\n",
            "                                                                                                                                                                     When we first met, my heart pounded. They said the shock of it was probably what broke his heart. In search of peace, we traveled once to Finland, tasted reindeer heart. It seemed so heartless, how you wanted it to end. I noticed on the nurse who took his pulse a heart tattooed above her collarbone. The       0.00      0.00      0.00         2\n",
            "                                                                                                                                                                  When you appeared it was as ifmagnets cleared the air.I had never seen that smile beforeor your hair, flying silver. Someonewaving goodbye, she was silver, too.Of course you didn’t see me.I called softly so you could choosenot to answer—then called again.You turned in the light, your eyesseeking your name.       0.00      0.00      0.00         1\n",
            "                                                                                                                                                                                                                                                                                                                                                                         When you, my Dear, are away, away, How wearily goes the creeping day. A year drags after morning, and night        0.00      0.00      0.00         1\n",
            "                                                                                                                                                                                                    Who would decry instruments— when grasses ever so fragile, provide strings stout enough for insect moods to glide up and down in glissandos of toes along wires or finger-tips on zithers—thoughthe mere soundsbe theirs, not ours—theirs, not ours,the first inspiration—discord       0.00      0.00      0.00         2\n",
            "                                                                                                                                                                   Why make so much of fragmentary blue In here and there a bird, or butterfly, Or flower, or wearing-stone, or open eye, When heaven presents in sheets the solid hue?Since earth is earth, perhaps, not heaven (as yet)— Though some savants make earth include the sky; And blue so far above us comes so high, It       0.00      0.00      0.00         1\n",
            "                                                                                                                                                                                                                        Woman, I wish I didn't know your name. What could you be? Silence in my house& the front yard where the dogwoodwouldn't make up its mind about flowers.Aren't you Nature? A stem cringing, half- shadowed beneath a torque of rain.I too am leaving. I too am       0.00      0.00      0.00         1\n",
            "                                                                                                                                                                                  Yellow gold is meaningless Learning is better than pearls A woman without brilliance Leaves nothing but dim children You can hawk your gold if you’re hungry Sell your mule when you’re desperate What can you do with so many poems Sprouting dead hairs in an empty coffin *Lotus: pink dewlapped       0.00      0.00      0.00         1\n",
            "                                                                                                                                                                        You are a nobodyuntil another man leavesa note under your wiper:I like your hair, clothes, car—call me!Late May, I brush pinkCrepe Myrtle blossomsfrom the hood of my car.Again spring factorsinto our fever. Would thisaffair leave any room for error?What if I only wanthim to hum me a lullaby.To rest in       0.00      0.00      0.00         1\n",
            "                                                                                                                                                                                                                                                                                                                                                                         You ask me again this evening at what priceDoes wisdom finally come in any lifeOr at any age & now I think I       0.00      0.00      0.00         1\n",
            "                                                                                                                                                                                  You come to fetch me from my work to-night When supper's on the table, and we'll see If I can leave off burying the white Soft petals fallen from the apple tree. (Soft petals, yes, but not so barren quite, Mingled with these, smooth bean and wrinkled pea;) And go along with you ere you lose       0.00      0.00      0.00         1\n",
            "                                                                                                                                                              You didn't win the Cyndi Lauper look-alike contest at the skating rink. Pretending to understand you're in therapy. How long do you spend thinking about women's arms.We were supposed to do it 23 times before we broke up. To honor the day we met.Suddenly everyone values at home child care now that men do it.You       0.00      0.00      0.00         1\n",
            "                                                                                                                                                                      You should never put the new antlers of a deer to your nose and smell them. They have little insects that crawl into the nose and devour the brain. —Kenkō, Essays in Idleness Consider that the insects might be metaphor. That the antlers’ wet velvet scent might be Proust’s madeleine dipped into a cup of       0.00      0.00      0.00         1\n",
            "                                                                                                                                                               Your voice, with clear location of June days, Called me outside the window.You were there, Light yet composed, as in the just soft stare Of uncontested summer all things raise Plainly their seeming into seamless air.Then your love looked as simple and entire As that picked pear you tossed me, and your face As       0.00      0.00      0.00         1\n",
            "                                                                                                                                                                                                                                                                                    after Tyehimba Jess Freedom is what you can buywith a left jab & a right cross. You’ve got the uppercut of a champ. On a sweaty August night, you watch Ramos v Ramos from the Olympic on TV. You       0.00      0.00      0.00         1\n",
            "                                                                                                                                       after Willie Cole Through the artist’s eyes, we catch this breath of fire, lifting water up to flight. This dead weight sinks our histories back into deep sleep, hidden away to dream of repair. Waking, we clutch at the real weight of a movable flood, catching streams that pour through metal still cold to the touch. Time takes little       0.00      0.00      0.00         1\n",
            "                                                                                                                                                                                                                                        after Yusef KomunyakaaMy black face fades, hiding inside black smoke.I knew they'd use it, dammit: tear gas.I'm grown. I'm fresh.Their clouded assumption eyes me like a runaway, guilty as night, chasing morning. I run this way—the street       0.00      0.00      0.00         1\n",
            "                                                                                                                                                                                                                     although I know you can never be foundalthough I know that from the highest heightyou cannot be seen you are not hidingfrom me or are you is it how you look nowor maybe how I look now all these years gone byplaces seen people met not knowing at any timewho       0.00      0.00      0.00         1\n",
            "                                                                                                                                                                                                   as is the sea marvelous from god's hands which sent her forth to sleep upon the worldand the earth withers the moon crumbles one by one stars flutter into dustbut the sea does not change and she goes forth out of hands and she returns into handsand is with sleep....love,the       0.00      0.00      0.00         1\n",
            "                                                                                                                                                                        dedicated to my 30/30 crewpraise daily poems in my inboxhow they make me laugh in one stanza,then break my heart the nextpraise how poets hold onto our first loves,and scent of mama, now gonepraise how we nurture our child self,gently wrap her around stanzas,baby girl is resilientpraise our spunk and       0.00      0.00      0.00         1\n",
            "                                                                                                                                    dew grass a fire shine mountain a lung pine cone the bone tsunami rock hawk jaw gravity a fall all consuming a song chirp for sunlight spine daggers cracking the sky an ocean paused in its crashing creature shake trip whistle rustle nut squirrel swish stump thunder or thump thump a swallowing you beautiful urchin you rot mound of moss.       0.00      0.00      0.00         1\n",
            "                                                                                                                                                                                                                                                                                                                                                                                                                   for M1.who conceived that ravineorthe contourof those slopesTorbay       0.00      0.00      0.00         1\n",
            "                                                                                                                                                                                                                                                                                                                                             for NatalieSo much like sequins the sunlight on this river. Something like that kiss— remember? Fourth of July, with the moon down early       0.00      0.00      0.00         1\n",
            "                                                                                                                                                                                                                          for TomicaMy love is as ancient as my blood. And of course my blood is still mine because a woman, sweetened black with good song, pulled me from the river like an axe pulled back from the bark. I learned love, first, as scar. And of course my love is       0.00      0.00      0.00         2\n",
            "                                                                                                                                                                                                                                                                                                                                                                       for my grandfatherWe don’t have heirlooms. Haven’t owned things long enough. We’re hoarding us in our stories.       0.00      0.00      0.00         1\n",
            "                                                                                                           have retired now that the circushas closed, to their watercolors& bowling leagues, their tusk-dugrose gardens, their record collections,their calligraphy—                             say one hasbegun a letter to you, peacock feathergripped in the beautiful gray coilsof its trunk, & she dips it in the inkwell& begins              darling, I have my dead &I have       0.00      0.00      0.00         1\n",
            "                                                                                                                                                                                                                                i come from the fire city / fire came and licked up our houses, lapped them up like they were nothing / drank them like the last dribbling water from a concrete fountain / the spigot is too hot to touch with your lips be careful / fire kissed us       0.00      0.00      0.00         1\n",
            "                                                                                                                                                                                                                                                                                                           i like to think that on the flower you gave me when we lovedthe far- departed mouth sweetly-saluted lingers. if one marvelseeing the hunger of my lips for a dead thing, i       0.00      0.00      0.00         1\n",
            "                                                                                                                                                                                                                                                                                                                       if i believein death be sureof thisit is because you have loved me,moon and sunsetstars and flowersgold crescendo and silver muting of seatidesi trusted not,        0.00      0.00      0.00         1\n",
            "                                                                                                                                                                 in paradise that i said lake should jumpinto a you          so how’d i miss the maw andrun from paradise into below the spoutand ride the rim and circle down the furwhere white collects to silver ringbefore the drop          the lightless part i dareyou not to think of abe while coursingcoursed half crane's       0.00      0.00      0.00         1\n",
            "                                                                                                                                             my friendscreate the moodby describing itturning off all the lightsa place in our mindswakes as in waterwe dance alone and with each otherwe make circles around each otherget close then step backthen get close againmy friendsthe furniture is roundthe furniture is coveredin bluetsthere are drugs my friendswhy be evasivewhen you       0.00      0.00      0.00         1\n",
            "                                                                                                                                                                                                                                                                                                          my roommate one year in college would say of my smallnessthat any man who found me attractive had a trace of the pedophilic & i would shrinknewly girled twenty-one with my       0.00      0.00      0.00         1\n",
            "                                                                                                                                                                                                               so many this mornings so many movement so many breezesso many cypress so many doorways demolished so many brushso many vines crawl up the front of that house and so manyspaces so many wide open between one structure and anotherso many ditches so many cars parked       0.00      0.00      0.00         1\n",
            "                                                                                                                                                                                        the room where I want to rest, I find my hands and am able again to see you— clear eyed where we left one another—last year in the passenger’s seat, having woken after Colorado, which was beautifuland which I did not wake you for,wanting all the aspens, all the golden, quaking aspens,       0.00      0.00      0.00         1\n",
            "                                                                                                                                                                                                                                                                           there is amoon solein the bluenightamorous of waterstremulous,blinded with silence theundulous heaven yearns where in tense starlessnessanoint with ardorthe yellow lover stands in the dumb darksvelteand       0.00      0.00      0.00         1\n",
            "                                                                                                                                                                       tonight for a moment as the owl sleepsi’m going to dust this city’s dirt from my clothesthe dry hot deaths that bring the strongest to their knees.i’m going to run headlong through a rainstormdodging lightening blasts and hurdling riversas wolves howl on a peak of purple darkness.with my nose flaring,       0.00      0.00      0.00         1\n",
            "                                                                                                                                                            un-shaken, moving un-restricted through the blank season, counting the dead, counting the days, counting heart beats, back to worms, back to dustvback to this un-necessary burden, sometimes in terror, sometimes a reversal crushed beneath another categorical persistence, another dream creature who does not speak.       0.00      0.00      0.00         1\n",
            "                                                                                                                                                                                                    what I really mean. He paints my name across the floral bed sheet and ties the bottom corners to my ankles. Then he paints another for himself. We walk into town and play the shadow game, saying Oh! I'm sorry for stepping on your shadow! and Please be careful! My shadow is       0.00      0.00      0.00         1\n",
            "                                                                                                                                              when god lets my body beFrom each brave eye shall sprout a tree fruit that dangles therefromthe purpled world will dance upon Between my lips which did singa rose shall beget the spring that maidens whom passion wasteswill lay between their little breasts My strong fingers beneath the snowInto strenuous birds shall go my love       0.00      0.00      0.00         1\n",
            "                                                                                                                                                        when life is quite through with and leaves say alas, much is to do for the swallow,that closes a flight in the blue;when love's had his tears out, perhaps shall pass a million years (while a bee dozes on the poppies,the dears;when all's done and said,and under the grass lies her head by oaks and roses deliberated.)        0.00      0.00      0.00         1\n",
            "                                                                                                                                                                                                                                                                                         white-throat sparrows/full of note/netted in the eventide/voices sawing the trees/fragile little bodies/tracing frantic circlesnot understanding/what we must all come to accept/not one day       0.00      0.00      0.00         1\n",
            "                                                                                                                                        {on the occasion of Martin Puryear’s Noblesse O’ (red cedar and aluminum paint) at the Dallas Museum of Art}Perfect for picking up marbles, For finding, lifting, a favoriteBlade of grass, O’ magic elastic straw of the watering hole,Perfected for sucking, water, up, Then miraculously aiming back Around, into the mouth, mod implement       0.00      0.00      0.00         1\n",
            "                                                                                                                                                                                                                                                               I hear you call, pine tree, I hear you upon the hill, by the silent                 pondwhere the lotus flowers bloom, I hear you call, pine tree.       What is it you call, pine tree, when the rain falls, when the       0.00      0.00      0.00         1\n",
            "                                                                                                                                                                                                                                                                                         Storms are generous.                                      Something so easy to surrender to, sitting by the window, and then you step out into the garden you were so bored of,                    0.00      0.00      0.00         1\n",
            "                                                                                                                                                                                                                                                  Ȟe is a mountain as hé is a horn that comes from a shift in the river, throat to mouth. Followed by sápa, a kind of black sleek in the rise of both. Remember. Ȟe Sápa is not a black hill, not Pahá Sápa, by any name you call it.       0.00      0.00      0.00         1\n",
            "                                                                                                                                                                                                                                                       ‘Farewell to barn and stack and tree, Farewell to Severn shore. Terence, look your last at me, For I come home no more.‘The sun burns on the half-mown hill, By now the blood is dried; And Maurice amongst the hay lies still       0.00      0.00      0.00         1\n",
            "                                                                                                                                                                                             ‘Oh whence do you come, my dear friend, to me,With your golden hair all fallen below your knee,And your face as white as snowdrops on the lea,And your voice as hollow as the hollow sea?’‘From the other world I come back to you:My locks are uncurled with dripping drenching dew,You       0.00      0.00      0.00         1\n",
            "                                                                                                                                                 ‘There’s a footstep coming: look out and see,’     ‘The leaves are falling, the wind is calling;No one cometh across the lea.’—‘There’s a footstep coming: O sister, look.’—     ‘The ripple flashes, the white foam dashes;No one cometh across the brook.’—‘But he promised that he would come:     To-night, to-morrow, in joy or       0.00      0.00      0.00         1\n",
            "                                                                                                                                                                    ’Tis the witching time of night,Orbed is the moon and bright,And the Stars they glisten, glisten,Seeming with bright eyes to listen.For what listen they?For a song and for a charm,See they glisten in alarm,And the Moon is waxing warmTo hear what I shall say.Moon! keep wide thy golden ears—Hearken, Stars!       0.00      0.00      0.00         1\n",
            "                                                                                                                                         “O Dreary life!” we cry, “O dreary life!”And still the generations of the birdsSing through our sighing, and the flocks and herdsSerenely live while we are keeping strifeWith Heaven’s true purpose in us, as a knifeAgainst which we may struggle. Ocean girdsUnslackened the dry land: savannah-swardsUnweary sweep: hills watch, unworn;       0.00      0.00      0.00         1\n",
            "\n",
            "                                                                                                                                                                                                                                                                                                                                                                                                                                                                             accuracy                           0.00       253\n",
            "                                                                                                                                                                                                                                                                                                                                                                                                                                                                            macro avg       0.00      0.00      0.00       253\n",
            "                                                                                                                                                                                                                                                                                                                                                                                                                                                                         weighted avg       0.00      0.00      0.00       253\n",
            "\n"
          ]
        },
        {
          "output_type": "stream",
          "name": "stderr",
          "text": [
            "/usr/local/lib/python3.10/dist-packages/sklearn/metrics/_classification.py:1344: UndefinedMetricWarning: Precision and F-score are ill-defined and being set to 0.0 in labels with no predicted samples. Use `zero_division` parameter to control this behavior.\n",
            "  _warn_prf(average, modifier, msg_start, len(result))\n",
            "/usr/local/lib/python3.10/dist-packages/sklearn/metrics/_classification.py:1344: UndefinedMetricWarning: Recall and F-score are ill-defined and being set to 0.0 in labels with no true samples. Use `zero_division` parameter to control this behavior.\n",
            "  _warn_prf(average, modifier, msg_start, len(result))\n",
            "/usr/local/lib/python3.10/dist-packages/sklearn/metrics/_classification.py:1344: UndefinedMetricWarning: Precision and F-score are ill-defined and being set to 0.0 in labels with no predicted samples. Use `zero_division` parameter to control this behavior.\n",
            "  _warn_prf(average, modifier, msg_start, len(result))\n",
            "/usr/local/lib/python3.10/dist-packages/sklearn/metrics/_classification.py:1344: UndefinedMetricWarning: Recall and F-score are ill-defined and being set to 0.0 in labels with no true samples. Use `zero_division` parameter to control this behavior.\n",
            "  _warn_prf(average, modifier, msg_start, len(result))\n",
            "/usr/local/lib/python3.10/dist-packages/sklearn/metrics/_classification.py:1344: UndefinedMetricWarning: Precision and F-score are ill-defined and being set to 0.0 in labels with no predicted samples. Use `zero_division` parameter to control this behavior.\n",
            "  _warn_prf(average, modifier, msg_start, len(result))\n",
            "/usr/local/lib/python3.10/dist-packages/sklearn/metrics/_classification.py:1344: UndefinedMetricWarning: Recall and F-score are ill-defined and being set to 0.0 in labels with no true samples. Use `zero_division` parameter to control this behavior.\n",
            "  _warn_prf(average, modifier, msg_start, len(result))\n"
          ]
        }
      ]
    },
    {
      "cell_type": "code",
      "source": [
        "# Calculate accuracy\n",
        "accuracy = accuracy_score(y_test, predictions)\n",
        "print(f\"Accuracy: {accuracy:.4f}\")"
      ],
      "metadata": {
        "colab": {
          "base_uri": "https://localhost:8080/"
        },
        "id": "kJveEZXsH8Up",
        "outputId": "02d83e59-776a-46e0-860a-5042421a2d25"
      },
      "execution_count": null,
      "outputs": [
        {
          "output_type": "stream",
          "name": "stdout",
          "text": [
            "Accuracy: 0.4524\n"
          ]
        }
      ]
    },
    {
      "cell_type": "markdown",
      "source": [
        "A accuracy score of 0.4524, sometimes denoted as 45.24%, indicates that approximately 45.24% of the model's predictions were accurate."
      ],
      "metadata": {
        "id": "YNw1s1AGfVPm"
      }
    },
    {
      "cell_type": "code",
      "source": [
        "# Calculate precision, recall, F1-score\n",
        "precision = precision_score(y_test, predictions, average='weighted')\n",
        "recall = recall_score(y_test, predictions, average='weighted')\n",
        "f1 = f1_score(y_test, predictions, average='weighted')\n",
        "\n",
        "print(f\"Precision: {precision:.4f}\")\n",
        "print(f\"Recall: {recall:.4f}\")\n",
        "print(f\"F1-score: {f1:.4f}\")"
      ],
      "metadata": {
        "colab": {
          "base_uri": "https://localhost:8080/"
        },
        "id": "oySaocpbIeQ7",
        "outputId": "61c1f99b-f0d2-4385-f7f4-81364d845794"
      },
      "execution_count": null,
      "outputs": [
        {
          "output_type": "stream",
          "name": "stdout",
          "text": [
            "Precision: 0.4468\n",
            "Recall: 0.4524\n",
            "F1-score: 0.4432\n"
          ]
        }
      ]
    },
    {
      "cell_type": "markdown",
      "source": [
        "* The metrics precision, recall, and F1-score were employed to assess the effectiveness of a classification model.\n",
        "\n",
        "* Precision (0.4468): This indicator quantifies the level of correctness in the positive predictions generated by the model. Approximately 44.68% of the events that were predicted as positive were really true positives in this scenario. This metric denotes the number of chosen things that are pertinent.\n",
        "\n",
        "* Recall (0.4524): Recall, or sensitivity, quantifies the model's capacity to correctly detect all the true positive instances. The model accurately detected around 45.24% of the total true positives. It represents the accuracy of properly predicting the actual positive cases.\n",
        "\n",
        "* F1-score (0.4432): The F1-score represents the harmonic mean of precision and recall. It offers a unified score that takes into account both precision and recall. A higher F1-score signifies superior overall performance in relation to both false positives and false negatives. The F1-score in this instance is approximately 44.32%.\n",
        "\n",
        "* In all, these measures indicate that the model's performance is reasonable, with comparable precision and recall values, although there is potential for enhancement. Enhancing either accuracy or recall while minimizing the impact on the other can improve the model's ability to accurately identify and classify occurrences.\n",
        "\n",
        "\n",
        "\n",
        "\n",
        "\n",
        "\n",
        "\n",
        "\n",
        "\n"
      ],
      "metadata": {
        "id": "P3GVN3jXVdcd"
      }
    },
    {
      "cell_type": "code",
      "source": [
        "# Get unique labels from y_test\n",
        "labels = np.unique(y_test)"
      ],
      "metadata": {
        "id": "Dm6iN6gwImN4"
      },
      "execution_count": null,
      "outputs": []
    },
    {
      "cell_type": "code",
      "source": [
        "# Calculate the confusion matrix (cm)\n",
        "cm = confusion_matrix(y_test, predictions, labels= labels)\n",
        "print(cm)"
      ],
      "metadata": {
        "colab": {
          "base_uri": "https://localhost:8080/"
        },
        "id": "0imckccYIr9D",
        "outputId": "4e0e6dfa-8f29-4665-d398-1250aaac2b53"
      },
      "execution_count": null,
      "outputs": [
        {
          "output_type": "stream",
          "name": "stdout",
          "text": [
            "[[ 9  9 11 11]\n",
            " [ 4 28 17 20]\n",
            " [ 6 10 42 11]\n",
            " [ 3 19 17 35]]\n"
          ]
        }
      ]
    },
    {
      "cell_type": "code",
      "source": [
        "# Plot confusion matrix\n",
        "plt.figure(figsize=(8, 6))\n",
        "sns.heatmap(cm, annot=True, cmap='viridis', fmt='d', xticklabels= [1,0], yticklabels=[1,0])\n",
        "plt.xlabel('Predicted')\n",
        "plt.ylabel('True')\n",
        "plt.title('Confusion Matrix')\n",
        "plt.show()"
      ],
      "metadata": {
        "id": "H23nqJmEIwii",
        "colab": {
          "base_uri": "https://localhost:8080/",
          "height": 564
        },
        "outputId": "fec14d47-44be-45b8-ff54-9c301510469a"
      },
      "execution_count": null,
      "outputs": [
        {
          "output_type": "display_data",
          "data": {
            "text/plain": [
              "<Figure size 800x600 with 2 Axes>"
            ],
            "image/png": "[encoded data removed]"
          },
          "metadata": {}
        }
      ]
    },
    {
      "cell_type": "markdown",
      "source": [
        "**SUMMARY OF THE  SENTIMENT ANALYSIS MODEL FINDINGS AND THEIR IMPLICATIONS BASED ON THE WORD FREQUENCY WORD CLOUDS AND THE PERFORMANCE.**\n",
        "\n",
        "Considering the frequency of words in word clouds and the effectiveness of the sentiment analysis model:\n",
        "\n",
        "**Findings:**\n",
        "\n",
        "* Frequency of Words Word Clouds: The examination of word frequency unveiled the predominant words utilized in several genres (affection, death, environment, and music). Every genre had unique word patterns.\n",
        "\n",
        "* Sentiment Analysis Model: The text classification model (Logistic Regression) for sentiment analysis shown a satisfactory level of precision in forecasting the genre of poems by analyzing their content.\n",
        "\n",
        "**Implication:**\n",
        "\n",
        "* The unique word patterns identified in the word cloud of each genre highlight the peculiar lexical choices made by poets in that genre. This indicates the possibility of using automated methods to classify genres and analyze themes in enormous quantities of poetry writing.\n",
        "\n",
        "* Analyzing word frequencies and mood in poetry can help to comprehend frequent topics and emotional tones in literary works, so enhancing literary analysis, cultural knowledge, and even emotional recognition in text.\n",
        "\n",
        "In conclusion, the integration of visualizing word frequencies and utilizing machine learning for genre classification offers a valuable perspective for understanding and classifying poetic content. It presents opportunities for sophisticated literary analysis and automated categorization of literary works."
      ],
      "metadata": {
        "id": "fDqvQFcEA2ms"
      }
    },
    {
      "cell_type": "markdown",
      "source": [
        "**Code Reference for Task 3**\n",
        "\n",
        "* Prakash, S. (2023). Tweet Classification. [Online]. DBS Moodle. Available at: https://elearning.dbs.ie/mod/resource/view.php?id=1482400 [Accessed 18 December 2023].\n",
        "\n",
        "* Sanchez, V. R. (2020). Sentiment analysis TF-IDF+Logistic regression. [Online]. Kaggle. Available at: https://www.kaggle.com/code/viroviro/sentiment-analysis-tf-idf-logistic-regression [Accessed 18 December 2023]."
      ],
      "metadata": {
        "id": "laiEzL5ygZUl"
      }
    }
  ]
}